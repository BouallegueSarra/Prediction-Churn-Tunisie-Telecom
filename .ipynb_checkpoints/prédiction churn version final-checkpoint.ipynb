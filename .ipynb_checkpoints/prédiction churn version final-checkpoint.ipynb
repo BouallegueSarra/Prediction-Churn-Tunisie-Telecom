{
 "cells": [
  {
   "cell_type": "markdown",
   "id": "f529a43e",
   "metadata": {},
   "source": [
    "# Importation des bibliothéques"
   ]
  },
  {
   "cell_type": "code",
   "execution_count": 1,
   "id": "12315f45",
   "metadata": {},
   "outputs": [],
   "source": [
    "import numpy as np\n",
    "import pandas as pd\n",
    "import seaborn as sns\n",
    "import matplotlib.pyplot as plt\n",
    "from sklearn.ensemble import RandomForestClassifier\n",
    "from sklearn.model_selection import *\n",
    "from sklearn.metrics import *\n",
    "from sklearn.tree import DecisionTreeClassifier\n",
    "from sklearn.linear_model import LogisticRegression\n",
    "from sklearn.neighbors import KNeighborsClassifier\n",
    "from sklearn.preprocessing import MinMaxScaler, StandardScaler, LabelEncoder, OneHotEncoder\n",
    "from xgboost import XGBClassifier\n",
    "from sklearn.svm import SVC\n",
    "from sklearn.naive_bayes import GaussianNB, BernoulliNB,MultinomialNB\n",
    "from sklearn import tree\n",
    "import sklearn.metrics as metrics\n",
    "from scipy.stats import randint, uniform\n",
    "from xgboost import plot_tree\n",
    "from xgboost import plot_importance\n",
    "from sklearn.feature_selection import VarianceThreshold\n",
    "from sklearn.metrics import precision_score, accuracy_score, recall_score, f1_score\n",
    "from sklearn.metrics import roc_curve"
   ]
  },
  {
   "cell_type": "markdown",
   "id": "b4eff5c1",
   "metadata": {},
   "source": [
    "# Importation de la base\n"
   ]
  },
  {
   "cell_type": "code",
   "execution_count": 115,
   "id": "e446d96d",
   "metadata": {},
   "outputs": [
    {
     "data": {
      "text/html": [
       "<div>\n",
       "<style scoped>\n",
       "    .dataframe tbody tr th:only-of-type {\n",
       "        vertical-align: middle;\n",
       "    }\n",
       "\n",
       "    .dataframe tbody tr th {\n",
       "        vertical-align: top;\n",
       "    }\n",
       "\n",
       "    .dataframe thead th {\n",
       "        text-align: right;\n",
       "    }\n",
       "</style>\n",
       "<table border=\"1\" class=\"dataframe\">\n",
       "  <thead>\n",
       "    <tr style=\"text-align: right;\">\n",
       "      <th></th>\n",
       "      <th>id_client</th>\n",
       "      <th>nb_jours_abonne</th>\n",
       "      <th>durée_appel_jour(minutes)</th>\n",
       "      <th>nb_appels_jour</th>\n",
       "      <th>cout_appel_jour</th>\n",
       "      <th>durée_appel_soirée(minutes)</th>\n",
       "      <th>nb_appel_soirée</th>\n",
       "      <th>cout_appel_soirée</th>\n",
       "      <th>durée_appel_nuit(minutes)</th>\n",
       "      <th>nb_appel_nuit</th>\n",
       "      <th>cout_appel_nuit</th>\n",
       "      <th>durée_appel_inter(minutes)</th>\n",
       "      <th>nb_appel_inter</th>\n",
       "      <th>cout_appel_inter</th>\n",
       "      <th>active_msg_vocaux</th>\n",
       "      <th>nb_msg_vocaux</th>\n",
       "      <th>nb_reclamation</th>\n",
       "      <th>churn</th>\n",
       "    </tr>\n",
       "  </thead>\n",
       "  <tbody>\n",
       "    <tr>\n",
       "      <th>0</th>\n",
       "      <td>382-4657</td>\n",
       "      <td>128</td>\n",
       "      <td>265.1</td>\n",
       "      <td>110</td>\n",
       "      <td>45.07</td>\n",
       "      <td>197.4</td>\n",
       "      <td>99</td>\n",
       "      <td>16.78</td>\n",
       "      <td>244.7</td>\n",
       "      <td>91</td>\n",
       "      <td>11.01</td>\n",
       "      <td>10.0</td>\n",
       "      <td>3.0</td>\n",
       "      <td>2.70</td>\n",
       "      <td>yes</td>\n",
       "      <td>25</td>\n",
       "      <td>NaN</td>\n",
       "      <td>False.</td>\n",
       "    </tr>\n",
       "    <tr>\n",
       "      <th>1</th>\n",
       "      <td>371-7191</td>\n",
       "      <td>107</td>\n",
       "      <td>161.6</td>\n",
       "      <td>123</td>\n",
       "      <td>27.47</td>\n",
       "      <td>195.5</td>\n",
       "      <td>103</td>\n",
       "      <td>16.62</td>\n",
       "      <td>254.4</td>\n",
       "      <td>103</td>\n",
       "      <td>11.45</td>\n",
       "      <td>13.7</td>\n",
       "      <td>3.0</td>\n",
       "      <td>3.70</td>\n",
       "      <td>yes</td>\n",
       "      <td>26</td>\n",
       "      <td>1.0</td>\n",
       "      <td>False.</td>\n",
       "    </tr>\n",
       "    <tr>\n",
       "      <th>2</th>\n",
       "      <td>358-1921</td>\n",
       "      <td>137</td>\n",
       "      <td>243.4</td>\n",
       "      <td>114</td>\n",
       "      <td>41.38</td>\n",
       "      <td>121.2</td>\n",
       "      <td>110</td>\n",
       "      <td>10.30</td>\n",
       "      <td>162.6</td>\n",
       "      <td>104</td>\n",
       "      <td>7.32</td>\n",
       "      <td>12.2</td>\n",
       "      <td>5.0</td>\n",
       "      <td>3.29</td>\n",
       "      <td>no</td>\n",
       "      <td>0</td>\n",
       "      <td>0.0</td>\n",
       "      <td>False.</td>\n",
       "    </tr>\n",
       "    <tr>\n",
       "      <th>3</th>\n",
       "      <td>375-9999</td>\n",
       "      <td>84</td>\n",
       "      <td>299.4</td>\n",
       "      <td>71</td>\n",
       "      <td>50.90</td>\n",
       "      <td>61.9</td>\n",
       "      <td>88</td>\n",
       "      <td>5.26</td>\n",
       "      <td>196.9</td>\n",
       "      <td>89</td>\n",
       "      <td>8.86</td>\n",
       "      <td>6.6</td>\n",
       "      <td>7.0</td>\n",
       "      <td>1.78</td>\n",
       "      <td>no</td>\n",
       "      <td>0</td>\n",
       "      <td>2.0</td>\n",
       "      <td>False.</td>\n",
       "    </tr>\n",
       "    <tr>\n",
       "      <th>4</th>\n",
       "      <td>330-6626</td>\n",
       "      <td>75</td>\n",
       "      <td>166.7</td>\n",
       "      <td>113</td>\n",
       "      <td>28.34</td>\n",
       "      <td>148.3</td>\n",
       "      <td>122</td>\n",
       "      <td>12.61</td>\n",
       "      <td>186.9</td>\n",
       "      <td>121</td>\n",
       "      <td>8.41</td>\n",
       "      <td>10.1</td>\n",
       "      <td>3.0</td>\n",
       "      <td>2.73</td>\n",
       "      <td>no</td>\n",
       "      <td>0</td>\n",
       "      <td>3.0</td>\n",
       "      <td>False.</td>\n",
       "    </tr>\n",
       "    <tr>\n",
       "      <th>...</th>\n",
       "      <td>...</td>\n",
       "      <td>...</td>\n",
       "      <td>...</td>\n",
       "      <td>...</td>\n",
       "      <td>...</td>\n",
       "      <td>...</td>\n",
       "      <td>...</td>\n",
       "      <td>...</td>\n",
       "      <td>...</td>\n",
       "      <td>...</td>\n",
       "      <td>...</td>\n",
       "      <td>...</td>\n",
       "      <td>...</td>\n",
       "      <td>...</td>\n",
       "      <td>...</td>\n",
       "      <td>...</td>\n",
       "      <td>...</td>\n",
       "      <td>...</td>\n",
       "    </tr>\n",
       "    <tr>\n",
       "      <th>4995</th>\n",
       "      <td>365-8751</td>\n",
       "      <td>50</td>\n",
       "      <td>235.7</td>\n",
       "      <td>127</td>\n",
       "      <td>40.07</td>\n",
       "      <td>223.0</td>\n",
       "      <td>126</td>\n",
       "      <td>18.96</td>\n",
       "      <td>297.5</td>\n",
       "      <td>116</td>\n",
       "      <td>13.39</td>\n",
       "      <td>9.9</td>\n",
       "      <td>5.0</td>\n",
       "      <td>2.67</td>\n",
       "      <td>yes</td>\n",
       "      <td>40</td>\n",
       "      <td>2.0</td>\n",
       "      <td>False.</td>\n",
       "    </tr>\n",
       "    <tr>\n",
       "      <th>4996</th>\n",
       "      <td>334-9736</td>\n",
       "      <td>152</td>\n",
       "      <td>184.2</td>\n",
       "      <td>90</td>\n",
       "      <td>31.31</td>\n",
       "      <td>256.8</td>\n",
       "      <td>73</td>\n",
       "      <td>21.83</td>\n",
       "      <td>213.6</td>\n",
       "      <td>113</td>\n",
       "      <td>9.61</td>\n",
       "      <td>14.7</td>\n",
       "      <td>2.0</td>\n",
       "      <td>3.97</td>\n",
       "      <td>no</td>\n",
       "      <td>0</td>\n",
       "      <td>3.0</td>\n",
       "      <td>True.</td>\n",
       "    </tr>\n",
       "    <tr>\n",
       "      <th>4997</th>\n",
       "      <td>333-6861</td>\n",
       "      <td>61</td>\n",
       "      <td>140.6</td>\n",
       "      <td>89</td>\n",
       "      <td>23.90</td>\n",
       "      <td>172.8</td>\n",
       "      <td>128</td>\n",
       "      <td>14.69</td>\n",
       "      <td>212.4</td>\n",
       "      <td>97</td>\n",
       "      <td>9.56</td>\n",
       "      <td>13.6</td>\n",
       "      <td>4.0</td>\n",
       "      <td>3.67</td>\n",
       "      <td>no</td>\n",
       "      <td>0</td>\n",
       "      <td>1.0</td>\n",
       "      <td>False.</td>\n",
       "    </tr>\n",
       "    <tr>\n",
       "      <th>4998</th>\n",
       "      <td>394-2206</td>\n",
       "      <td>109</td>\n",
       "      <td>188.8</td>\n",
       "      <td>67</td>\n",
       "      <td>32.10</td>\n",
       "      <td>171.7</td>\n",
       "      <td>92</td>\n",
       "      <td>14.59</td>\n",
       "      <td>224.4</td>\n",
       "      <td>89</td>\n",
       "      <td>10.10</td>\n",
       "      <td>8.5</td>\n",
       "      <td>6.0</td>\n",
       "      <td>2.30</td>\n",
       "      <td>no</td>\n",
       "      <td>0</td>\n",
       "      <td>0.0</td>\n",
       "      <td>False.</td>\n",
       "    </tr>\n",
       "    <tr>\n",
       "      <th>4999</th>\n",
       "      <td>373-8058</td>\n",
       "      <td>86</td>\n",
       "      <td>129.4</td>\n",
       "      <td>102</td>\n",
       "      <td>22.00</td>\n",
       "      <td>267.1</td>\n",
       "      <td>104</td>\n",
       "      <td>22.70</td>\n",
       "      <td>154.8</td>\n",
       "      <td>100</td>\n",
       "      <td>6.97</td>\n",
       "      <td>9.3</td>\n",
       "      <td>16.0</td>\n",
       "      <td>2.51</td>\n",
       "      <td>yes</td>\n",
       "      <td>34</td>\n",
       "      <td>0.0</td>\n",
       "      <td>False.</td>\n",
       "    </tr>\n",
       "  </tbody>\n",
       "</table>\n",
       "<p>5000 rows × 18 columns</p>\n",
       "</div>"
      ],
      "text/plain": [
       "      id_client  nb_jours_abonne  durée_appel_jour(minutes)  nb_appels_jour  \\\n",
       "0      382-4657              128                      265.1             110   \n",
       "1      371-7191              107                      161.6             123   \n",
       "2      358-1921              137                      243.4             114   \n",
       "3      375-9999               84                      299.4              71   \n",
       "4      330-6626               75                      166.7             113   \n",
       "...         ...              ...                        ...             ...   \n",
       "4995   365-8751               50                      235.7             127   \n",
       "4996   334-9736              152                      184.2              90   \n",
       "4997   333-6861               61                      140.6              89   \n",
       "4998   394-2206              109                      188.8              67   \n",
       "4999   373-8058               86                      129.4             102   \n",
       "\n",
       "      cout_appel_jour  durée_appel_soirée(minutes)  nb_appel_soirée  \\\n",
       "0               45.07                        197.4               99   \n",
       "1               27.47                        195.5              103   \n",
       "2               41.38                        121.2              110   \n",
       "3               50.90                         61.9               88   \n",
       "4               28.34                        148.3              122   \n",
       "...               ...                          ...              ...   \n",
       "4995            40.07                        223.0              126   \n",
       "4996            31.31                        256.8               73   \n",
       "4997            23.90                        172.8              128   \n",
       "4998            32.10                        171.7               92   \n",
       "4999            22.00                        267.1              104   \n",
       "\n",
       "      cout_appel_soirée  durée_appel_nuit(minutes)  nb_appel_nuit  \\\n",
       "0                 16.78                      244.7             91   \n",
       "1                 16.62                      254.4            103   \n",
       "2                 10.30                      162.6            104   \n",
       "3                  5.26                      196.9             89   \n",
       "4                 12.61                      186.9            121   \n",
       "...                 ...                        ...            ...   \n",
       "4995              18.96                      297.5            116   \n",
       "4996              21.83                      213.6            113   \n",
       "4997              14.69                      212.4             97   \n",
       "4998              14.59                      224.4             89   \n",
       "4999              22.70                      154.8            100   \n",
       "\n",
       "      cout_appel_nuit  durée_appel_inter(minutes)  nb_appel_inter  \\\n",
       "0               11.01                        10.0             3.0   \n",
       "1               11.45                        13.7             3.0   \n",
       "2                7.32                        12.2             5.0   \n",
       "3                8.86                         6.6             7.0   \n",
       "4                8.41                        10.1             3.0   \n",
       "...               ...                         ...             ...   \n",
       "4995            13.39                         9.9             5.0   \n",
       "4996             9.61                        14.7             2.0   \n",
       "4997             9.56                        13.6             4.0   \n",
       "4998            10.10                         8.5             6.0   \n",
       "4999             6.97                         9.3            16.0   \n",
       "\n",
       "      cout_appel_inter active_msg_vocaux  nb_msg_vocaux  nb_reclamation  \\\n",
       "0                 2.70               yes             25             NaN   \n",
       "1                 3.70               yes             26             1.0   \n",
       "2                 3.29                no              0             0.0   \n",
       "3                 1.78                no              0             2.0   \n",
       "4                 2.73                no              0             3.0   \n",
       "...                ...               ...            ...             ...   \n",
       "4995              2.67               yes             40             2.0   \n",
       "4996              3.97                no              0             3.0   \n",
       "4997              3.67                no              0             1.0   \n",
       "4998              2.30                no              0             0.0   \n",
       "4999              2.51               yes             34             0.0   \n",
       "\n",
       "        churn  \n",
       "0      False.  \n",
       "1      False.  \n",
       "2      False.  \n",
       "3      False.  \n",
       "4      False.  \n",
       "...       ...  \n",
       "4995   False.  \n",
       "4996    True.  \n",
       "4997   False.  \n",
       "4998   False.  \n",
       "4999   False.  \n",
       "\n",
       "[5000 rows x 18 columns]"
      ]
     },
     "execution_count": 115,
     "metadata": {},
     "output_type": "execute_result"
    }
   ],
   "source": [
    "data =pd.read_csv('dataset_telecom.csv',encoding='latin-1')\n",
    "data"
   ]
  },
  {
   "cell_type": "code",
   "execution_count": 117,
   "id": "7de0f268",
   "metadata": {},
   "outputs": [
    {
     "data": {
      "text/plain": [
       "Text(0.5, 1.0, 'Les valeurs manquantes')"
      ]
     },
     "execution_count": 117,
     "metadata": {},
     "output_type": "execute_result"
    },
    {
     "data": {
      "image/png": "[encoded data removed]",
      "text/plain": [
       "<Figure size 864x216 with 1 Axes>"
      ]
     },
     "metadata": {
      "needs_background": "light"
     },
     "output_type": "display_data"
    }
   ],
   "source": [
    "plt.figure(figsize=(12,3))\n",
    "sns.heatmap(data.isna(),cbar=False)\n",
    "plt.title('Les valeurs manquantes', fontsize=18)"
   ]
  },
  {
   "cell_type": "markdown",
   "id": "819dd4b5",
   "metadata": {},
   "source": [
    "# Statistique descriptive"
   ]
  },
  {
   "cell_type": "code",
   "execution_count": 92,
   "id": "2b230500",
   "metadata": {},
   "outputs": [
    {
     "data": {
      "text/plain": [
       "(5000, 18)"
      ]
     },
     "execution_count": 92,
     "metadata": {},
     "output_type": "execute_result"
    }
   ],
   "source": [
    "data.shape"
   ]
  },
  {
   "cell_type": "markdown",
   "id": "9bdc9f08",
   "metadata": {},
   "source": [
    "Notre dataset contient :\n",
    "   * `5000` lignes  \n",
    "   * `18` variables"
   ]
  },
  {
   "cell_type": "code",
   "execution_count": 93,
   "id": "a66efb3b",
   "metadata": {},
   "outputs": [
    {
     "data": {
      "text/plain": [
       "Index(['id_client', 'nb_jours_abonne', 'durée_appel_jour(minutes)',\n",
       "       'nb_appels_jour', 'cout_appel_jour', 'durée_appel_soirée(minutes)',\n",
       "       'nb_appel_soirée', 'cout_appel_soirée', 'durée_appel_nuit(minutes)',\n",
       "       'nb_appel_nuit', 'cout_appel_nuit', 'durée_appel_inter(minutes)',\n",
       "       'nb_appel_inter', 'cout_appel_inter', 'active_msg_vocaux',\n",
       "       'nb_msg_vocaux', 'nb_reclamation', 'churn'],\n",
       "      dtype='object')"
      ]
     },
     "execution_count": 93,
     "metadata": {},
     "output_type": "execute_result"
    }
   ],
   "source": [
    "data.columns"
   ]
  },
  {
   "cell_type": "code",
   "execution_count": 94,
   "id": "dcfb983b",
   "metadata": {},
   "outputs": [
    {
     "data": {
      "text/html": [
       "<div>\n",
       "<style scoped>\n",
       "    .dataframe tbody tr th:only-of-type {\n",
       "        vertical-align: middle;\n",
       "    }\n",
       "\n",
       "    .dataframe tbody tr th {\n",
       "        vertical-align: top;\n",
       "    }\n",
       "\n",
       "    .dataframe thead th {\n",
       "        text-align: right;\n",
       "    }\n",
       "</style>\n",
       "<table border=\"1\" class=\"dataframe\">\n",
       "  <thead>\n",
       "    <tr style=\"text-align: right;\">\n",
       "      <th></th>\n",
       "      <th>id_client</th>\n",
       "      <th>nb_jours_abonne</th>\n",
       "      <th>durée_appel_jour(minutes)</th>\n",
       "      <th>nb_appels_jour</th>\n",
       "      <th>cout_appel_jour</th>\n",
       "      <th>durée_appel_soirée(minutes)</th>\n",
       "      <th>nb_appel_soirée</th>\n",
       "      <th>cout_appel_soirée</th>\n",
       "      <th>durée_appel_nuit(minutes)</th>\n",
       "      <th>nb_appel_nuit</th>\n",
       "      <th>cout_appel_nuit</th>\n",
       "      <th>durée_appel_inter(minutes)</th>\n",
       "      <th>nb_appel_inter</th>\n",
       "      <th>cout_appel_inter</th>\n",
       "      <th>active_msg_vocaux</th>\n",
       "      <th>nb_msg_vocaux</th>\n",
       "      <th>nb_reclamation</th>\n",
       "      <th>churn</th>\n",
       "    </tr>\n",
       "  </thead>\n",
       "  <tbody>\n",
       "    <tr>\n",
       "      <th>0</th>\n",
       "      <td>382-4657</td>\n",
       "      <td>128</td>\n",
       "      <td>265.1</td>\n",
       "      <td>110</td>\n",
       "      <td>45.07</td>\n",
       "      <td>197.4</td>\n",
       "      <td>99</td>\n",
       "      <td>16.78</td>\n",
       "      <td>244.7</td>\n",
       "      <td>91</td>\n",
       "      <td>11.01</td>\n",
       "      <td>10.0</td>\n",
       "      <td>3.0</td>\n",
       "      <td>2.70</td>\n",
       "      <td>yes</td>\n",
       "      <td>25</td>\n",
       "      <td>NaN</td>\n",
       "      <td>False.</td>\n",
       "    </tr>\n",
       "    <tr>\n",
       "      <th>1</th>\n",
       "      <td>371-7191</td>\n",
       "      <td>107</td>\n",
       "      <td>161.6</td>\n",
       "      <td>123</td>\n",
       "      <td>27.47</td>\n",
       "      <td>195.5</td>\n",
       "      <td>103</td>\n",
       "      <td>16.62</td>\n",
       "      <td>254.4</td>\n",
       "      <td>103</td>\n",
       "      <td>11.45</td>\n",
       "      <td>13.7</td>\n",
       "      <td>3.0</td>\n",
       "      <td>3.70</td>\n",
       "      <td>yes</td>\n",
       "      <td>26</td>\n",
       "      <td>1.0</td>\n",
       "      <td>False.</td>\n",
       "    </tr>\n",
       "    <tr>\n",
       "      <th>2</th>\n",
       "      <td>358-1921</td>\n",
       "      <td>137</td>\n",
       "      <td>243.4</td>\n",
       "      <td>114</td>\n",
       "      <td>41.38</td>\n",
       "      <td>121.2</td>\n",
       "      <td>110</td>\n",
       "      <td>10.30</td>\n",
       "      <td>162.6</td>\n",
       "      <td>104</td>\n",
       "      <td>7.32</td>\n",
       "      <td>12.2</td>\n",
       "      <td>5.0</td>\n",
       "      <td>3.29</td>\n",
       "      <td>no</td>\n",
       "      <td>0</td>\n",
       "      <td>0.0</td>\n",
       "      <td>False.</td>\n",
       "    </tr>\n",
       "    <tr>\n",
       "      <th>3</th>\n",
       "      <td>375-9999</td>\n",
       "      <td>84</td>\n",
       "      <td>299.4</td>\n",
       "      <td>71</td>\n",
       "      <td>50.90</td>\n",
       "      <td>61.9</td>\n",
       "      <td>88</td>\n",
       "      <td>5.26</td>\n",
       "      <td>196.9</td>\n",
       "      <td>89</td>\n",
       "      <td>8.86</td>\n",
       "      <td>6.6</td>\n",
       "      <td>7.0</td>\n",
       "      <td>1.78</td>\n",
       "      <td>no</td>\n",
       "      <td>0</td>\n",
       "      <td>2.0</td>\n",
       "      <td>False.</td>\n",
       "    </tr>\n",
       "    <tr>\n",
       "      <th>4</th>\n",
       "      <td>330-6626</td>\n",
       "      <td>75</td>\n",
       "      <td>166.7</td>\n",
       "      <td>113</td>\n",
       "      <td>28.34</td>\n",
       "      <td>148.3</td>\n",
       "      <td>122</td>\n",
       "      <td>12.61</td>\n",
       "      <td>186.9</td>\n",
       "      <td>121</td>\n",
       "      <td>8.41</td>\n",
       "      <td>10.1</td>\n",
       "      <td>3.0</td>\n",
       "      <td>2.73</td>\n",
       "      <td>no</td>\n",
       "      <td>0</td>\n",
       "      <td>3.0</td>\n",
       "      <td>False.</td>\n",
       "    </tr>\n",
       "  </tbody>\n",
       "</table>\n",
       "</div>"
      ],
      "text/plain": [
       "   id_client  nb_jours_abonne  durée_appel_jour(minutes)  nb_appels_jour  \\\n",
       "0   382-4657              128                      265.1             110   \n",
       "1   371-7191              107                      161.6             123   \n",
       "2   358-1921              137                      243.4             114   \n",
       "3   375-9999               84                      299.4              71   \n",
       "4   330-6626               75                      166.7             113   \n",
       "\n",
       "   cout_appel_jour  durée_appel_soirée(minutes)  nb_appel_soirée  \\\n",
       "0            45.07                        197.4               99   \n",
       "1            27.47                        195.5              103   \n",
       "2            41.38                        121.2              110   \n",
       "3            50.90                         61.9               88   \n",
       "4            28.34                        148.3              122   \n",
       "\n",
       "   cout_appel_soirée  durée_appel_nuit(minutes)  nb_appel_nuit  \\\n",
       "0              16.78                      244.7             91   \n",
       "1              16.62                      254.4            103   \n",
       "2              10.30                      162.6            104   \n",
       "3               5.26                      196.9             89   \n",
       "4              12.61                      186.9            121   \n",
       "\n",
       "   cout_appel_nuit  durée_appel_inter(minutes)  nb_appel_inter  \\\n",
       "0            11.01                        10.0             3.0   \n",
       "1            11.45                        13.7             3.0   \n",
       "2             7.32                        12.2             5.0   \n",
       "3             8.86                         6.6             7.0   \n",
       "4             8.41                        10.1             3.0   \n",
       "\n",
       "   cout_appel_inter active_msg_vocaux  nb_msg_vocaux  nb_reclamation    churn  \n",
       "0              2.70               yes             25             NaN   False.  \n",
       "1              3.70               yes             26             1.0   False.  \n",
       "2              3.29                no              0             0.0   False.  \n",
       "3              1.78                no              0             2.0   False.  \n",
       "4              2.73                no              0             3.0   False.  "
      ]
     },
     "execution_count": 94,
     "metadata": {},
     "output_type": "execute_result"
    }
   ],
   "source": [
    "data.head()"
   ]
  },
  {
   "cell_type": "code",
   "execution_count": 95,
   "id": "c1ed6a81",
   "metadata": {},
   "outputs": [
    {
     "data": {
      "text/html": [
       "<div>\n",
       "<style scoped>\n",
       "    .dataframe tbody tr th:only-of-type {\n",
       "        vertical-align: middle;\n",
       "    }\n",
       "\n",
       "    .dataframe tbody tr th {\n",
       "        vertical-align: top;\n",
       "    }\n",
       "\n",
       "    .dataframe thead th {\n",
       "        text-align: right;\n",
       "    }\n",
       "</style>\n",
       "<table border=\"1\" class=\"dataframe\">\n",
       "  <thead>\n",
       "    <tr style=\"text-align: right;\">\n",
       "      <th></th>\n",
       "      <th>count</th>\n",
       "      <th>mean</th>\n",
       "      <th>std</th>\n",
       "      <th>min</th>\n",
       "      <th>25%</th>\n",
       "      <th>50%</th>\n",
       "      <th>75%</th>\n",
       "      <th>max</th>\n",
       "    </tr>\n",
       "  </thead>\n",
       "  <tbody>\n",
       "    <tr>\n",
       "      <th>nb_jours_abonne</th>\n",
       "      <td>5000.0</td>\n",
       "      <td>100.258600</td>\n",
       "      <td>39.694560</td>\n",
       "      <td>1.0</td>\n",
       "      <td>73.000</td>\n",
       "      <td>100.00</td>\n",
       "      <td>127.00</td>\n",
       "      <td>243.00</td>\n",
       "    </tr>\n",
       "    <tr>\n",
       "      <th>durée_appel_jour(minutes)</th>\n",
       "      <td>5000.0</td>\n",
       "      <td>180.288900</td>\n",
       "      <td>53.894699</td>\n",
       "      <td>0.0</td>\n",
       "      <td>143.700</td>\n",
       "      <td>180.10</td>\n",
       "      <td>216.20</td>\n",
       "      <td>351.50</td>\n",
       "    </tr>\n",
       "    <tr>\n",
       "      <th>nb_appels_jour</th>\n",
       "      <td>5000.0</td>\n",
       "      <td>100.029400</td>\n",
       "      <td>19.831197</td>\n",
       "      <td>0.0</td>\n",
       "      <td>87.000</td>\n",
       "      <td>100.00</td>\n",
       "      <td>113.00</td>\n",
       "      <td>165.00</td>\n",
       "    </tr>\n",
       "    <tr>\n",
       "      <th>cout_appel_jour</th>\n",
       "      <td>4990.0</td>\n",
       "      <td>30.653916</td>\n",
       "      <td>9.161460</td>\n",
       "      <td>0.0</td>\n",
       "      <td>24.430</td>\n",
       "      <td>30.62</td>\n",
       "      <td>36.75</td>\n",
       "      <td>59.76</td>\n",
       "    </tr>\n",
       "    <tr>\n",
       "      <th>durée_appel_soirée(minutes)</th>\n",
       "      <td>5000.0</td>\n",
       "      <td>200.636560</td>\n",
       "      <td>50.551309</td>\n",
       "      <td>0.0</td>\n",
       "      <td>166.375</td>\n",
       "      <td>201.00</td>\n",
       "      <td>234.10</td>\n",
       "      <td>363.70</td>\n",
       "    </tr>\n",
       "    <tr>\n",
       "      <th>nb_appel_soirée</th>\n",
       "      <td>5000.0</td>\n",
       "      <td>100.191000</td>\n",
       "      <td>19.826496</td>\n",
       "      <td>0.0</td>\n",
       "      <td>87.000</td>\n",
       "      <td>100.00</td>\n",
       "      <td>114.00</td>\n",
       "      <td>170.00</td>\n",
       "    </tr>\n",
       "    <tr>\n",
       "      <th>cout_appel_soirée</th>\n",
       "      <td>5000.0</td>\n",
       "      <td>17.054322</td>\n",
       "      <td>4.296843</td>\n",
       "      <td>0.0</td>\n",
       "      <td>14.140</td>\n",
       "      <td>17.09</td>\n",
       "      <td>19.90</td>\n",
       "      <td>30.91</td>\n",
       "    </tr>\n",
       "    <tr>\n",
       "      <th>durée_appel_nuit(minutes)</th>\n",
       "      <td>5000.0</td>\n",
       "      <td>200.391620</td>\n",
       "      <td>50.527789</td>\n",
       "      <td>0.0</td>\n",
       "      <td>166.900</td>\n",
       "      <td>200.40</td>\n",
       "      <td>234.70</td>\n",
       "      <td>395.00</td>\n",
       "    </tr>\n",
       "    <tr>\n",
       "      <th>nb_appel_nuit</th>\n",
       "      <td>5000.0</td>\n",
       "      <td>99.919200</td>\n",
       "      <td>19.958686</td>\n",
       "      <td>0.0</td>\n",
       "      <td>87.000</td>\n",
       "      <td>100.00</td>\n",
       "      <td>113.00</td>\n",
       "      <td>175.00</td>\n",
       "    </tr>\n",
       "    <tr>\n",
       "      <th>cout_appel_nuit</th>\n",
       "      <td>5000.0</td>\n",
       "      <td>9.017732</td>\n",
       "      <td>2.273763</td>\n",
       "      <td>0.0</td>\n",
       "      <td>7.510</td>\n",
       "      <td>9.02</td>\n",
       "      <td>10.56</td>\n",
       "      <td>17.77</td>\n",
       "    </tr>\n",
       "    <tr>\n",
       "      <th>durée_appel_inter(minutes)</th>\n",
       "      <td>5000.0</td>\n",
       "      <td>10.261780</td>\n",
       "      <td>2.761396</td>\n",
       "      <td>0.0</td>\n",
       "      <td>8.500</td>\n",
       "      <td>10.30</td>\n",
       "      <td>12.00</td>\n",
       "      <td>20.00</td>\n",
       "    </tr>\n",
       "    <tr>\n",
       "      <th>nb_appel_inter</th>\n",
       "      <td>4985.0</td>\n",
       "      <td>4.436510</td>\n",
       "      <td>2.460366</td>\n",
       "      <td>0.0</td>\n",
       "      <td>3.000</td>\n",
       "      <td>4.00</td>\n",
       "      <td>6.00</td>\n",
       "      <td>20.00</td>\n",
       "    </tr>\n",
       "    <tr>\n",
       "      <th>cout_appel_inter</th>\n",
       "      <td>5000.0</td>\n",
       "      <td>2.771196</td>\n",
       "      <td>0.745514</td>\n",
       "      <td>0.0</td>\n",
       "      <td>2.300</td>\n",
       "      <td>2.78</td>\n",
       "      <td>3.24</td>\n",
       "      <td>5.40</td>\n",
       "    </tr>\n",
       "    <tr>\n",
       "      <th>nb_msg_vocaux</th>\n",
       "      <td>5000.0</td>\n",
       "      <td>7.755200</td>\n",
       "      <td>13.546393</td>\n",
       "      <td>0.0</td>\n",
       "      <td>0.000</td>\n",
       "      <td>0.00</td>\n",
       "      <td>17.00</td>\n",
       "      <td>52.00</td>\n",
       "    </tr>\n",
       "    <tr>\n",
       "      <th>nb_reclamation</th>\n",
       "      <td>4978.0</td>\n",
       "      <td>1.572921</td>\n",
       "      <td>1.308696</td>\n",
       "      <td>0.0</td>\n",
       "      <td>1.000</td>\n",
       "      <td>1.00</td>\n",
       "      <td>2.00</td>\n",
       "      <td>9.00</td>\n",
       "    </tr>\n",
       "  </tbody>\n",
       "</table>\n",
       "</div>"
      ],
      "text/plain": [
       "                              count        mean        std  min      25%  \\\n",
       "nb_jours_abonne              5000.0  100.258600  39.694560  1.0   73.000   \n",
       "durée_appel_jour(minutes)    5000.0  180.288900  53.894699  0.0  143.700   \n",
       "nb_appels_jour               5000.0  100.029400  19.831197  0.0   87.000   \n",
       "cout_appel_jour              4990.0   30.653916   9.161460  0.0   24.430   \n",
       "durée_appel_soirée(minutes)  5000.0  200.636560  50.551309  0.0  166.375   \n",
       "nb_appel_soirée              5000.0  100.191000  19.826496  0.0   87.000   \n",
       "cout_appel_soirée            5000.0   17.054322   4.296843  0.0   14.140   \n",
       "durée_appel_nuit(minutes)    5000.0  200.391620  50.527789  0.0  166.900   \n",
       "nb_appel_nuit                5000.0   99.919200  19.958686  0.0   87.000   \n",
       "cout_appel_nuit              5000.0    9.017732   2.273763  0.0    7.510   \n",
       "durée_appel_inter(minutes)   5000.0   10.261780   2.761396  0.0    8.500   \n",
       "nb_appel_inter               4985.0    4.436510   2.460366  0.0    3.000   \n",
       "cout_appel_inter             5000.0    2.771196   0.745514  0.0    2.300   \n",
       "nb_msg_vocaux                5000.0    7.755200  13.546393  0.0    0.000   \n",
       "nb_reclamation               4978.0    1.572921   1.308696  0.0    1.000   \n",
       "\n",
       "                                50%     75%     max  \n",
       "nb_jours_abonne              100.00  127.00  243.00  \n",
       "durée_appel_jour(minutes)    180.10  216.20  351.50  \n",
       "nb_appels_jour               100.00  113.00  165.00  \n",
       "cout_appel_jour               30.62   36.75   59.76  \n",
       "durée_appel_soirée(minutes)  201.00  234.10  363.70  \n",
       "nb_appel_soirée              100.00  114.00  170.00  \n",
       "cout_appel_soirée             17.09   19.90   30.91  \n",
       "durée_appel_nuit(minutes)    200.40  234.70  395.00  \n",
       "nb_appel_nuit                100.00  113.00  175.00  \n",
       "cout_appel_nuit                9.02   10.56   17.77  \n",
       "durée_appel_inter(minutes)    10.30   12.00   20.00  \n",
       "nb_appel_inter                 4.00    6.00   20.00  \n",
       "cout_appel_inter               2.78    3.24    5.40  \n",
       "nb_msg_vocaux                  0.00   17.00   52.00  \n",
       "nb_reclamation                 1.00    2.00    9.00  "
      ]
     },
     "execution_count": 95,
     "metadata": {},
     "output_type": "execute_result"
    }
   ],
   "source": [
    "data.describe().T"
   ]
  },
  {
   "cell_type": "markdown",
   "id": "b94cd5c4",
   "metadata": {},
   "source": [
    "Statistique descriptive de chaque variable numérique"
   ]
  },
  {
   "cell_type": "code",
   "execution_count": 96,
   "id": "6fd25306",
   "metadata": {},
   "outputs": [
    {
     "data": {
      "text/html": [
       "<div>\n",
       "<style scoped>\n",
       "    .dataframe tbody tr th:only-of-type {\n",
       "        vertical-align: middle;\n",
       "    }\n",
       "\n",
       "    .dataframe tbody tr th {\n",
       "        vertical-align: top;\n",
       "    }\n",
       "\n",
       "    .dataframe thead th {\n",
       "        text-align: right;\n",
       "    }\n",
       "</style>\n",
       "<table border=\"1\" class=\"dataframe\">\n",
       "  <thead>\n",
       "    <tr style=\"text-align: right;\">\n",
       "      <th></th>\n",
       "      <th>count</th>\n",
       "      <th>unique</th>\n",
       "      <th>top</th>\n",
       "      <th>freq</th>\n",
       "    </tr>\n",
       "  </thead>\n",
       "  <tbody>\n",
       "    <tr>\n",
       "      <th>id_client</th>\n",
       "      <td>5000</td>\n",
       "      <td>5000</td>\n",
       "      <td>382-4657</td>\n",
       "      <td>1</td>\n",
       "    </tr>\n",
       "    <tr>\n",
       "      <th>active_msg_vocaux</th>\n",
       "      <td>5000</td>\n",
       "      <td>2</td>\n",
       "      <td>no</td>\n",
       "      <td>3677</td>\n",
       "    </tr>\n",
       "    <tr>\n",
       "      <th>churn</th>\n",
       "      <td>5000</td>\n",
       "      <td>2</td>\n",
       "      <td>False.</td>\n",
       "      <td>4293</td>\n",
       "    </tr>\n",
       "  </tbody>\n",
       "</table>\n",
       "</div>"
      ],
      "text/plain": [
       "                  count unique        top  freq\n",
       "id_client          5000   5000   382-4657     1\n",
       "active_msg_vocaux  5000      2         no  3677\n",
       "churn              5000      2     False.  4293"
      ]
     },
     "execution_count": 96,
     "metadata": {},
     "output_type": "execute_result"
    }
   ],
   "source": [
    "data.describe(include=object).T"
   ]
  },
  {
   "cell_type": "code",
   "execution_count": 97,
   "id": "b7863ec0",
   "metadata": {},
   "outputs": [
    {
     "name": "stdout",
     "output_type": "stream",
     "text": [
      "<class 'pandas.core.frame.DataFrame'>\n",
      "RangeIndex: 5000 entries, 0 to 4999\n",
      "Data columns (total 18 columns):\n",
      " #   Column                       Non-Null Count  Dtype  \n",
      "---  ------                       --------------  -----  \n",
      " 0   id_client                    5000 non-null   object \n",
      " 1   nb_jours_abonne              5000 non-null   int64  \n",
      " 2   durée_appel_jour(minutes)    5000 non-null   float64\n",
      " 3   nb_appels_jour               5000 non-null   int64  \n",
      " 4   cout_appel_jour              4990 non-null   float64\n",
      " 5   durée_appel_soirée(minutes)  5000 non-null   float64\n",
      " 6   nb_appel_soirée              5000 non-null   int64  \n",
      " 7   cout_appel_soirée            5000 non-null   float64\n",
      " 8   durée_appel_nuit(minutes)    5000 non-null   float64\n",
      " 9   nb_appel_nuit                5000 non-null   int64  \n",
      " 10  cout_appel_nuit              5000 non-null   float64\n",
      " 11  durée_appel_inter(minutes)   5000 non-null   float64\n",
      " 12  nb_appel_inter               4985 non-null   float64\n",
      " 13  cout_appel_inter             5000 non-null   float64\n",
      " 14  active_msg_vocaux            5000 non-null   object \n",
      " 15  nb_msg_vocaux                5000 non-null   int64  \n",
      " 16  nb_reclamation               4978 non-null   float64\n",
      " 17  churn                        5000 non-null   object \n",
      "dtypes: float64(10), int64(5), object(3)\n",
      "memory usage: 703.2+ KB\n"
     ]
    }
   ],
   "source": [
    "data.info()"
   ]
  },
  {
   "cell_type": "code",
   "execution_count": 98,
   "id": "6f902e41",
   "metadata": {},
   "outputs": [
    {
     "data": {
      "text/plain": [
       "array([' False.', ' True.'], dtype=object)"
      ]
     },
     "execution_count": 98,
     "metadata": {},
     "output_type": "execute_result"
    }
   ],
   "source": [
    "data['churn'].unique()"
   ]
  },
  {
   "cell_type": "markdown",
   "id": "b8c47208",
   "metadata": {},
   "source": [
    "Nous pouvons remarquer que la colonne 'churn' a 2 valeurs différentes : False ou True. \n",
    "*   `False` client not churned.\n",
    "*   `True` client churned. \n"
   ]
  },
  {
   "cell_type": "code",
   "execution_count": 99,
   "id": "9493cf72",
   "metadata": {},
   "outputs": [
    {
     "data": {
      "text/html": [
       "<div>\n",
       "<style scoped>\n",
       "    .dataframe tbody tr th:only-of-type {\n",
       "        vertical-align: middle;\n",
       "    }\n",
       "\n",
       "    .dataframe tbody tr th {\n",
       "        vertical-align: top;\n",
       "    }\n",
       "\n",
       "    .dataframe thead th {\n",
       "        text-align: right;\n",
       "    }\n",
       "</style>\n",
       "<table border=\"1\" class=\"dataframe\">\n",
       "  <thead>\n",
       "    <tr style=\"text-align: right;\">\n",
       "      <th></th>\n",
       "      <th>id_client</th>\n",
       "      <th>nb_jours_abonne</th>\n",
       "      <th>durée_appel_jour(minutes)</th>\n",
       "      <th>nb_appels_jour</th>\n",
       "      <th>cout_appel_jour</th>\n",
       "      <th>durée_appel_soirée(minutes)</th>\n",
       "      <th>nb_appel_soirée</th>\n",
       "      <th>cout_appel_soirée</th>\n",
       "      <th>durée_appel_nuit(minutes)</th>\n",
       "      <th>nb_appel_nuit</th>\n",
       "      <th>cout_appel_nuit</th>\n",
       "      <th>durée_appel_inter(minutes)</th>\n",
       "      <th>nb_appel_inter</th>\n",
       "      <th>cout_appel_inter</th>\n",
       "      <th>active_msg_vocaux</th>\n",
       "      <th>nb_msg_vocaux</th>\n",
       "      <th>nb_reclamation</th>\n",
       "      <th>churn</th>\n",
       "    </tr>\n",
       "  </thead>\n",
       "  <tbody>\n",
       "    <tr>\n",
       "      <th>0</th>\n",
       "      <td>382-4657</td>\n",
       "      <td>128</td>\n",
       "      <td>265.1</td>\n",
       "      <td>110</td>\n",
       "      <td>45.07</td>\n",
       "      <td>197.4</td>\n",
       "      <td>99</td>\n",
       "      <td>16.78</td>\n",
       "      <td>244.7</td>\n",
       "      <td>91</td>\n",
       "      <td>11.01</td>\n",
       "      <td>10.0</td>\n",
       "      <td>3.0</td>\n",
       "      <td>2.70</td>\n",
       "      <td>yes</td>\n",
       "      <td>25</td>\n",
       "      <td>NaN</td>\n",
       "      <td>False.</td>\n",
       "    </tr>\n",
       "    <tr>\n",
       "      <th>1</th>\n",
       "      <td>371-7191</td>\n",
       "      <td>107</td>\n",
       "      <td>161.6</td>\n",
       "      <td>123</td>\n",
       "      <td>27.47</td>\n",
       "      <td>195.5</td>\n",
       "      <td>103</td>\n",
       "      <td>16.62</td>\n",
       "      <td>254.4</td>\n",
       "      <td>103</td>\n",
       "      <td>11.45</td>\n",
       "      <td>13.7</td>\n",
       "      <td>3.0</td>\n",
       "      <td>3.70</td>\n",
       "      <td>yes</td>\n",
       "      <td>26</td>\n",
       "      <td>1.0</td>\n",
       "      <td>False.</td>\n",
       "    </tr>\n",
       "    <tr>\n",
       "      <th>2</th>\n",
       "      <td>358-1921</td>\n",
       "      <td>137</td>\n",
       "      <td>243.4</td>\n",
       "      <td>114</td>\n",
       "      <td>41.38</td>\n",
       "      <td>121.2</td>\n",
       "      <td>110</td>\n",
       "      <td>10.30</td>\n",
       "      <td>162.6</td>\n",
       "      <td>104</td>\n",
       "      <td>7.32</td>\n",
       "      <td>12.2</td>\n",
       "      <td>5.0</td>\n",
       "      <td>3.29</td>\n",
       "      <td>no</td>\n",
       "      <td>0</td>\n",
       "      <td>0.0</td>\n",
       "      <td>False.</td>\n",
       "    </tr>\n",
       "    <tr>\n",
       "      <th>3</th>\n",
       "      <td>375-9999</td>\n",
       "      <td>84</td>\n",
       "      <td>299.4</td>\n",
       "      <td>71</td>\n",
       "      <td>50.90</td>\n",
       "      <td>61.9</td>\n",
       "      <td>88</td>\n",
       "      <td>5.26</td>\n",
       "      <td>196.9</td>\n",
       "      <td>89</td>\n",
       "      <td>8.86</td>\n",
       "      <td>6.6</td>\n",
       "      <td>7.0</td>\n",
       "      <td>1.78</td>\n",
       "      <td>no</td>\n",
       "      <td>0</td>\n",
       "      <td>2.0</td>\n",
       "      <td>False.</td>\n",
       "    </tr>\n",
       "    <tr>\n",
       "      <th>4</th>\n",
       "      <td>330-6626</td>\n",
       "      <td>75</td>\n",
       "      <td>166.7</td>\n",
       "      <td>113</td>\n",
       "      <td>28.34</td>\n",
       "      <td>148.3</td>\n",
       "      <td>122</td>\n",
       "      <td>12.61</td>\n",
       "      <td>186.9</td>\n",
       "      <td>121</td>\n",
       "      <td>8.41</td>\n",
       "      <td>10.1</td>\n",
       "      <td>3.0</td>\n",
       "      <td>2.73</td>\n",
       "      <td>no</td>\n",
       "      <td>0</td>\n",
       "      <td>3.0</td>\n",
       "      <td>False.</td>\n",
       "    </tr>\n",
       "  </tbody>\n",
       "</table>\n",
       "</div>"
      ],
      "text/plain": [
       "   id_client  nb_jours_abonne  durée_appel_jour(minutes)  nb_appels_jour  \\\n",
       "0   382-4657              128                      265.1             110   \n",
       "1   371-7191              107                      161.6             123   \n",
       "2   358-1921              137                      243.4             114   \n",
       "3   375-9999               84                      299.4              71   \n",
       "4   330-6626               75                      166.7             113   \n",
       "\n",
       "   cout_appel_jour  durée_appel_soirée(minutes)  nb_appel_soirée  \\\n",
       "0            45.07                        197.4               99   \n",
       "1            27.47                        195.5              103   \n",
       "2            41.38                        121.2              110   \n",
       "3            50.90                         61.9               88   \n",
       "4            28.34                        148.3              122   \n",
       "\n",
       "   cout_appel_soirée  durée_appel_nuit(minutes)  nb_appel_nuit  \\\n",
       "0              16.78                      244.7             91   \n",
       "1              16.62                      254.4            103   \n",
       "2              10.30                      162.6            104   \n",
       "3               5.26                      196.9             89   \n",
       "4              12.61                      186.9            121   \n",
       "\n",
       "   cout_appel_nuit  durée_appel_inter(minutes)  nb_appel_inter  \\\n",
       "0            11.01                        10.0             3.0   \n",
       "1            11.45                        13.7             3.0   \n",
       "2             7.32                        12.2             5.0   \n",
       "3             8.86                         6.6             7.0   \n",
       "4             8.41                        10.1             3.0   \n",
       "\n",
       "   cout_appel_inter active_msg_vocaux  nb_msg_vocaux  nb_reclamation    churn  \n",
       "0              2.70               yes             25             NaN   False.  \n",
       "1              3.70               yes             26             1.0   False.  \n",
       "2              3.29                no              0             0.0   False.  \n",
       "3              1.78                no              0             2.0   False.  \n",
       "4              2.73                no              0             3.0   False.  "
      ]
     },
     "execution_count": 99,
     "metadata": {},
     "output_type": "execute_result"
    }
   ],
   "source": [
    "data.head()"
   ]
  },
  {
   "cell_type": "code",
   "execution_count": 118,
   "id": "c05ea0ae",
   "metadata": {},
   "outputs": [
    {
     "data": {
      "text/plain": [
       "id_client                       0\n",
       "nb_jours_abonne                 0\n",
       "durée_appel_jour(minutes)       0\n",
       "nb_appels_jour                  0\n",
       "cout_appel_jour                10\n",
       "durée_appel_soirée(minutes)     0\n",
       "nb_appel_soirée                 0\n",
       "cout_appel_soirée               0\n",
       "durée_appel_nuit(minutes)       0\n",
       "nb_appel_nuit                   0\n",
       "cout_appel_nuit                 0\n",
       "durée_appel_inter(minutes)      0\n",
       "nb_appel_inter                 15\n",
       "cout_appel_inter                0\n",
       "active_msg_vocaux               0\n",
       "nb_msg_vocaux                   0\n",
       "nb_reclamation                 22\n",
       "churn                           0\n",
       "dtype: int64"
      ]
     },
     "execution_count": 118,
     "metadata": {},
     "output_type": "execute_result"
    }
   ],
   "source": [
    "# vérifier les valeur null\n",
    "data.isnull().sum()"
   ]
  },
  {
   "cell_type": "markdown",
   "id": "e37c273f",
   "metadata": {},
   "source": [
    "On a remarqué que: \n",
    "- la colonne \"cout_appel_jour\" est le cout total des minutes d'appel effectué par jour indiqué dans la colonne \"durée_appel_jour(minutes)\" . \n",
    "D'ou on a calculé le cout d'une minite par jour qui est 265,1/45.07 = 5.88\n",
    "\n",
    "- Maintenant par ce cout d'une minute, on va remplir la colonne \"cout_appel_jour\" qui est 5.88*durée d'appel par jour (minutes)"
   ]
  },
  {
   "cell_type": "code",
   "execution_count": 102,
   "id": "e09d56bd",
   "metadata": {},
   "outputs": [],
   "source": [
    "data[\"cout_appel_jour\"] = data[\"cout_appel_jour\"].fillna(data[\"durée_appel_jour(minutes)\"] * 5.88)"
   ]
  },
  {
   "cell_type": "code",
   "execution_count": 103,
   "id": "4e7d2e9f",
   "metadata": {},
   "outputs": [
    {
     "data": {
      "text/plain": [
       "id_client                       0\n",
       "nb_jours_abonne                 0\n",
       "durée_appel_jour(minutes)       0\n",
       "nb_appels_jour                  0\n",
       "cout_appel_jour                 0\n",
       "durée_appel_soirée(minutes)     0\n",
       "nb_appel_soirée                 0\n",
       "cout_appel_soirée               0\n",
       "durée_appel_nuit(minutes)       0\n",
       "nb_appel_nuit                   0\n",
       "cout_appel_nuit                 0\n",
       "durée_appel_inter(minutes)      0\n",
       "nb_appel_inter                 15\n",
       "cout_appel_inter                0\n",
       "active_msg_vocaux               0\n",
       "nb_msg_vocaux                   0\n",
       "nb_reclamation                 22\n",
       "churn                           0\n",
       "dtype: int64"
      ]
     },
     "execution_count": 103,
     "metadata": {},
     "output_type": "execute_result"
    }
   ],
   "source": [
    "# vérifier les valeur null\n",
    "data.isnull().sum()"
   ]
  },
  {
   "cell_type": "code",
   "execution_count": 105,
   "id": "b7ee3292",
   "metadata": {},
   "outputs": [
    {
     "data": {
      "text/plain": [
       "1.0    1764\n",
       "2.0    1127\n",
       "0.0    1023\n",
       "3.0     665\n",
       "4.0     252\n",
       "5.0      96\n",
       "6.0      34\n",
       "7.0      13\n",
       "9.0       2\n",
       "8.0       2\n",
       "Name: nb_reclamation, dtype: int64"
      ]
     },
     "execution_count": 105,
     "metadata": {},
     "output_type": "execute_result"
    }
   ],
   "source": [
    "data[\"nb_reclamation\"].value_counts()"
   ]
  },
  {
   "cell_type": "code",
   "execution_count": 106,
   "id": "60791ac2",
   "metadata": {},
   "outputs": [],
   "source": [
    "data[\"nb_reclamation\"] = data[\"nb_reclamation\"].fillna(1.0)"
   ]
  },
  {
   "cell_type": "code",
   "execution_count": 107,
   "id": "3a37c36d",
   "metadata": {},
   "outputs": [
    {
     "data": {
      "text/plain": [
       "3.0     992\n",
       "4.0     938\n",
       "2.0     743\n",
       "5.0     706\n",
       "6.0     495\n",
       "7.0     308\n",
       "1.0     265\n",
       "8.0     172\n",
       "9.0     148\n",
       "10.0     76\n",
       "11.0     45\n",
       "0.0      24\n",
       "12.0     23\n",
       "13.0     19\n",
       "15.0      9\n",
       "16.0      7\n",
       "14.0      6\n",
       "18.0      4\n",
       "19.0      2\n",
       "17.0      2\n",
       "20.0      1\n",
       "Name: nb_appel_inter, dtype: int64"
      ]
     },
     "execution_count": 107,
     "metadata": {},
     "output_type": "execute_result"
    }
   ],
   "source": [
    "data[\"nb_appel_inter\"].value_counts()"
   ]
  },
  {
   "cell_type": "code",
   "execution_count": 108,
   "id": "1b800e9d",
   "metadata": {},
   "outputs": [
    {
     "data": {
      "text/plain": [
       "4"
      ]
     },
     "execution_count": 108,
     "metadata": {},
     "output_type": "execute_result"
    }
   ],
   "source": [
    "mean_value = data[\"nb_appel_inter\"].mean()\n",
    "mean_value=round(mean_value)\n",
    "mean_value"
   ]
  },
  {
   "cell_type": "code",
   "execution_count": 109,
   "id": "ef85c078",
   "metadata": {},
   "outputs": [],
   "source": [
    "data[\"nb_appel_inter\"] = data[\"nb_appel_inter\"].fillna(mean_value)"
   ]
  },
  {
   "cell_type": "code",
   "execution_count": 110,
   "id": "b7a6d4d6",
   "metadata": {},
   "outputs": [
    {
     "data": {
      "text/plain": [
       "id_client                      0\n",
       "nb_jours_abonne                0\n",
       "durée_appel_jour(minutes)      0\n",
       "nb_appels_jour                 0\n",
       "cout_appel_jour                0\n",
       "durée_appel_soirée(minutes)    0\n",
       "nb_appel_soirée                0\n",
       "cout_appel_soirée              0\n",
       "durée_appel_nuit(minutes)      0\n",
       "nb_appel_nuit                  0\n",
       "cout_appel_nuit                0\n",
       "durée_appel_inter(minutes)     0\n",
       "nb_appel_inter                 0\n",
       "cout_appel_inter               0\n",
       "active_msg_vocaux              0\n",
       "nb_msg_vocaux                  0\n",
       "nb_reclamation                 0\n",
       "churn                          0\n",
       "dtype: int64"
      ]
     },
     "execution_count": 110,
     "metadata": {},
     "output_type": "execute_result"
    }
   ],
   "source": [
    "# vérifier les valeur null\n",
    "data.isnull().sum()"
   ]
  },
  {
   "cell_type": "markdown",
   "id": "8f83f23f",
   "metadata": {},
   "source": [
    "# Compréhension des données"
   ]
  },
  {
   "cell_type": "code",
   "execution_count": 10,
   "id": "87dac10f",
   "metadata": {},
   "outputs": [
    {
     "data": {
      "image/png": "[encoded data removed]",
      "text/plain": [
       "<Figure size 1080x1080 with 16 Axes>"
      ]
     },
     "metadata": {
      "needs_background": "light"
     },
     "output_type": "display_data"
    }
   ],
   "source": [
    "data.hist(figsize = (15, 15))\n",
    "plt.show()"
   ]
  },
  {
   "cell_type": "code",
   "execution_count": 11,
   "id": "62606030",
   "metadata": {},
   "outputs": [
    {
     "name": "stdout",
     "output_type": "stream",
     "text": [
      " False.    4293\n",
      " True.      707\n",
      "Name: churn, dtype: int64\n"
     ]
    },
    {
     "data": {
      "image/png": "[encoded data removed]",
      "text/plain": [
       "<Figure size 432x288 with 1 Axes>"
      ]
     },
     "metadata": {},
     "output_type": "display_data"
    }
   ],
   "source": [
    "churn = data[\"churn\"].value_counts()\n",
    "print(churn)\n",
    "labels = [\"Not churn (0) \",\"Churn (1)\"]\n",
    "colors = ['#45A6B7', '#E7D7A5']\n",
    "fig1, f1 = plt.subplots()\n",
    "f1.pie(churn,labels=labels, colors = colors, autopct='%1.2f%%',shadow=True, startangle=50) \n",
    "plt.tight_layout()\n",
    "plt.title(\"Répartition des clients en fonction de leur statut de churn\")\n",
    "plt.show()"
   ]
  },
  {
   "cell_type": "markdown",
   "id": "0a066a36",
   "metadata": {},
   "source": [
    "La majorité des clients sont actifs avec 85,86% mais 14,14% ont résilié leurs services ce qui est relativement élevé."
   ]
  },
  {
   "cell_type": "code",
   "execution_count": 12,
   "id": "a6cbf7f9",
   "metadata": {},
   "outputs": [
    {
     "data": {
      "image/png": "[encoded data removed]",
      "text/plain": [
       "<Figure size 432x288 with 1 Axes>"
      ]
     },
     "metadata": {
      "needs_background": "light"
     },
     "output_type": "display_data"
    }
   ],
   "source": [
    "data.groupby([\"nb_reclamation\",\"churn\"]).size().unstack().plot(kind=\"bar\", color=['#45A6B7', '#FF7A71'])\n",
    "plt.ylabel('Nombre de clients')\n",
    "plt.xlabel('Nombre de réclamation')\n",
    "plt.title('Répartition des clients par nombre de réclamations et churn')\n",
    "plt.show()"
   ]
  },
  {
   "cell_type": "code",
   "execution_count": 13,
   "id": "a0d981e7",
   "metadata": {},
   "outputs": [
    {
     "data": {
      "text/html": [
       "<div>\n",
       "<style scoped>\n",
       "    .dataframe tbody tr th:only-of-type {\n",
       "        vertical-align: middle;\n",
       "    }\n",
       "\n",
       "    .dataframe tbody tr th {\n",
       "        vertical-align: top;\n",
       "    }\n",
       "\n",
       "    .dataframe thead th {\n",
       "        text-align: right;\n",
       "    }\n",
       "</style>\n",
       "<table border=\"1\" class=\"dataframe\">\n",
       "  <thead>\n",
       "    <tr style=\"text-align: right;\">\n",
       "      <th>churn</th>\n",
       "      <th>False.</th>\n",
       "      <th>True.</th>\n",
       "      <th>Percentage Churn</th>\n",
       "    </tr>\n",
       "    <tr>\n",
       "      <th>nb_reclamation</th>\n",
       "      <th></th>\n",
       "      <th></th>\n",
       "      <th></th>\n",
       "    </tr>\n",
       "  </thead>\n",
       "  <tbody>\n",
       "    <tr>\n",
       "      <th>0</th>\n",
       "      <td>902</td>\n",
       "      <td>121</td>\n",
       "      <td>11.827957</td>\n",
       "    </tr>\n",
       "    <tr>\n",
       "      <th>1</th>\n",
       "      <td>1596</td>\n",
       "      <td>190</td>\n",
       "      <td>10.638298</td>\n",
       "    </tr>\n",
       "    <tr>\n",
       "      <th>2</th>\n",
       "      <td>1005</td>\n",
       "      <td>122</td>\n",
       "      <td>10.825200</td>\n",
       "    </tr>\n",
       "    <tr>\n",
       "      <th>3</th>\n",
       "      <td>592</td>\n",
       "      <td>73</td>\n",
       "      <td>10.977444</td>\n",
       "    </tr>\n",
       "    <tr>\n",
       "      <th>4</th>\n",
       "      <td>141</td>\n",
       "      <td>111</td>\n",
       "      <td>44.047619</td>\n",
       "    </tr>\n",
       "    <tr>\n",
       "      <th>5</th>\n",
       "      <td>38</td>\n",
       "      <td>58</td>\n",
       "      <td>60.416667</td>\n",
       "    </tr>\n",
       "    <tr>\n",
       "      <th>6</th>\n",
       "      <td>12</td>\n",
       "      <td>22</td>\n",
       "      <td>64.705882</td>\n",
       "    </tr>\n",
       "    <tr>\n",
       "      <th>7</th>\n",
       "      <td>6</td>\n",
       "      <td>7</td>\n",
       "      <td>53.846154</td>\n",
       "    </tr>\n",
       "    <tr>\n",
       "      <th>8</th>\n",
       "      <td>1</td>\n",
       "      <td>1</td>\n",
       "      <td>50.000000</td>\n",
       "    </tr>\n",
       "    <tr>\n",
       "      <th>9</th>\n",
       "      <td>0</td>\n",
       "      <td>2</td>\n",
       "      <td>100.000000</td>\n",
       "    </tr>\n",
       "  </tbody>\n",
       "</table>\n",
       "</div>"
      ],
      "text/plain": [
       "churn            False.   True.  Percentage Churn\n",
       "nb_reclamation                                   \n",
       "0                   902     121         11.827957\n",
       "1                  1596     190         10.638298\n",
       "2                  1005     122         10.825200\n",
       "3                   592      73         10.977444\n",
       "4                   141     111         44.047619\n",
       "5                    38      58         60.416667\n",
       "6                    12      22         64.705882\n",
       "7                     6       7         53.846154\n",
       "8                     1       1         50.000000\n",
       "9                     0       2        100.000000"
      ]
     },
     "execution_count": 13,
     "metadata": {},
     "output_type": "execute_result"
    }
   ],
   "source": [
    "reclamation=pd.crosstab(data['nb_reclamation'],data['churn'])\n",
    "reclamation['Percentage Churn']=reclamation.apply(lambda x: x[1]*100/(x[0]+x[1]),axis=1)\n",
    "reclamation"
   ]
  },
  {
   "cell_type": "markdown",
   "id": "aa5cbae3",
   "metadata": {},
   "source": [
    "Les clients ayant effectué plus de 4 réclamations ont un risque élevé de résilier leurs services."
   ]
  },
  {
   "cell_type": "code",
   "execution_count": 14,
   "id": "6a9fe871",
   "metadata": {},
   "outputs": [
    {
     "name": "stdout",
     "output_type": "stream",
     "text": [
      " no     3677\n",
      " yes    1323\n",
      "Name: active_msg_vocaux, dtype: int64\n"
     ]
    },
    {
     "data": {
      "text/plain": [
       "[Text(0, 0, 'Oui'), Text(1, 0, 'Non')]"
      ]
     },
     "execution_count": 14,
     "metadata": {},
     "output_type": "execute_result"
    },
    {
     "data": {
      "image/png": "[encoded data removed]",
      "text/plain": [
       "<Figure size 432x288 with 1 Axes>"
      ]
     },
     "metadata": {
      "needs_background": "light"
     },
     "output_type": "display_data"
    }
   ],
   "source": [
    "print(data.active_msg_vocaux.value_counts())\n",
    "colors = ['#D6D2A4', '#FF7A71']\n",
    "sns.countplot(x=\"active_msg_vocaux\",hue=\"churn\", palette=colors,data=data )\n",
    "plt.xlabel(\"Active message vocaux\")\n",
    "plt.ylabel(\"Nombre de clients\")\n",
    "plt.title('Nombre de clients en fonction de l\\'activation des messages vocaux')\n",
    "plt.gca().set_xticklabels(['Oui', 'Non'])\n"
   ]
  },
  {
   "cell_type": "code",
   "execution_count": 15,
   "id": "da3ac233",
   "metadata": {},
   "outputs": [
    {
     "data": {
      "text/html": [
       "<div>\n",
       "<style scoped>\n",
       "    .dataframe tbody tr th:only-of-type {\n",
       "        vertical-align: middle;\n",
       "    }\n",
       "\n",
       "    .dataframe tbody tr th {\n",
       "        vertical-align: top;\n",
       "    }\n",
       "\n",
       "    .dataframe thead th {\n",
       "        text-align: right;\n",
       "    }\n",
       "</style>\n",
       "<table border=\"1\" class=\"dataframe\">\n",
       "  <thead>\n",
       "    <tr style=\"text-align: right;\">\n",
       "      <th>churn</th>\n",
       "      <th>False.</th>\n",
       "      <th>True.</th>\n",
       "      <th>Percentage Churn</th>\n",
       "    </tr>\n",
       "    <tr>\n",
       "      <th>active_msg_vocaux</th>\n",
       "      <th></th>\n",
       "      <th></th>\n",
       "      <th></th>\n",
       "    </tr>\n",
       "  </thead>\n",
       "  <tbody>\n",
       "    <tr>\n",
       "      <th>no</th>\n",
       "      <td>3072</td>\n",
       "      <td>605</td>\n",
       "      <td>16.453631</td>\n",
       "    </tr>\n",
       "    <tr>\n",
       "      <th>yes</th>\n",
       "      <td>1221</td>\n",
       "      <td>102</td>\n",
       "      <td>7.709751</td>\n",
       "    </tr>\n",
       "  </tbody>\n",
       "</table>\n",
       "</div>"
      ],
      "text/plain": [
       "churn               False.   True.  Percentage Churn\n",
       "active_msg_vocaux                                   \n",
       " no                   3072     605         16.453631\n",
       " yes                  1221     102          7.709751"
      ]
     },
     "execution_count": 15,
     "metadata": {},
     "output_type": "execute_result"
    }
   ],
   "source": [
    "active=pd.crosstab(data['active_msg_vocaux'],data['churn'])\n",
    "active['Percentage Churn']=active.apply(lambda x: x[1]*100/(x[0]+x[1]),axis=1)\n",
    "active"
   ]
  },
  {
   "cell_type": "markdown",
   "id": "d9dd9563",
   "metadata": {},
   "source": [
    "Les clients qui n'activent pas les messages vocaux ont plus de chances de résilie\n"
   ]
  },
  {
   "cell_type": "code",
   "execution_count": null,
   "id": "a598b07f",
   "metadata": {},
   "outputs": [],
   "source": [
    "fig = plt.figure(figsize=(10, 8))\n",
    "data.boxplot(column='nb_msg_vocaux', by='churn')\n",
    "plt.suptitle(\"Répartition du churn selon nombre de message vocaux\", fontsize=12)\n",
    "plt.show()"
   ]
  },
  {
   "cell_type": "markdown",
   "id": "549a24d0",
   "metadata": {},
   "source": [
    "Les clients qui reçoivent plus de 15 messages vocaux ont un risque élevé de churn."
   ]
  },
  {
   "cell_type": "code",
   "execution_count": null,
   "id": "ff8390c1",
   "metadata": {},
   "outputs": [],
   "source": [
    "sns.FacetGrid(data,col = 'churn').map(plt.hist,'durée_appel_jour(minutes)',alpha = 0.9).add_legend()\n",
    "plt.show()"
   ]
  },
  {
   "cell_type": "code",
   "execution_count": null,
   "id": "ee8fcfbe",
   "metadata": {},
   "outputs": [],
   "source": [
    "data_periode = data.groupby(['churn', pd.cut(data['nb_jours_abonne'], [0, 50, 100, 150, 200, 250])]).size().reset_index(name='nb_client')\n",
    "\n",
    "sns.barplot(x='nb_jours_abonne', y='nb_client', hue='churn', data=data_periode, palette=['#45A6B7', '#B8AF94'])\n",
    "plt.xlabel(\"Période d'abonnement en jours\")\n",
    "plt.ylabel(\"Nombre de clients\")\n",
    "plt.title(\"Répartition des clients selon leur période d'abonnement et leur statut de résiliation\")\n",
    "\n",
    "plt.show()"
   ]
  },
  {
   "cell_type": "code",
   "execution_count": null,
   "id": "f97a2ab1",
   "metadata": {},
   "outputs": [],
   "source": [
    "sns.set(rc={'figure.figsize':(8,5)})\n",
    "sns.boxplot(x='churn', y='nb_jours_abonne', data=data).set(title='Durée d\\'abonnement des clients en fonction de leur statut de churn')"
   ]
  },
  {
   "cell_type": "markdown",
   "id": "1160005a",
   "metadata": {},
   "source": [
    "La majorité des résiliations se produisant au cours des trois premiers mois la période de 50 à 150 jours après l'abonnement"
   ]
  },
  {
   "cell_type": "code",
   "execution_count": null,
   "id": "e5628b92",
   "metadata": {},
   "outputs": [],
   "source": [
    "fig, (ax1, ax2, ax3) = plt.subplots(ncols=3, figsize=(15, 5))\n",
    "\n",
    "sns.boxplot(x=data['nb_appels_jour'], ax=ax1)\n",
    "ax1.set(title='nombre d\\'appels par jour', xlabel='nombre d\\'appels')\n",
    "\n",
    "sns.boxplot(x=data['nb_appel_nuit'], ax=ax2)\n",
    "ax2.set(title='nombre d\\'appels par nuit', xlabel='nombre d\\'appels')\n",
    "\n",
    "sns.boxplot(x=data['nb_appel_soirée'], ax=ax3)\n",
    "ax3.set(title='nombre d\\'appels par soirée', xlabel='nombre d\\'appels')\n",
    "\n",
    "plt.show()"
   ]
  },
  {
   "cell_type": "markdown",
   "id": "2f46ed74",
   "metadata": {},
   "source": [
    "La plupart des appels enregistrés, que ce soit le jour, la soirée ou la nuit, se situent entre 80 et 120 appels."
   ]
  },
  {
   "cell_type": "code",
   "execution_count": null,
   "id": "eb7a663e",
   "metadata": {},
   "outputs": [],
   "source": [
    "appel_jour = data.groupby('churn')['nb_appels_jour'].sum()\n",
    "appel_soir = data.groupby('churn')['nb_appel_soirée'].sum()\n",
    "appel_nuit = data.groupby('churn')['nb_appel_nuit'].sum()\n",
    "appel_inter = data.groupby('churn')['nb_appel_inter'].sum()\n",
    "\n",
    "\n",
    "labels = ['Appels de jour', 'Appels de soirée', 'Appels de nuit', 'Appels internationaux']\n",
    "values_churn_0 = [appel_jour[0], appel_soir[0], appel_nuit[0], appel_inter[0]]\n",
    "values_churn_1 = [appel_jour[1], appel_soir[1], appel_nuit[1], appel_inter[1]]\n",
    "\n",
    "x = np.arange(len(labels))\n",
    "width = 0.35\n",
    "\n",
    "fig, ax = plt.subplots(figsize=(10, 7))\n",
    "rects1 = ax.bar(x - width/2, values_churn_0, width, label='Churn = 0', color='#45A6B7')\n",
    "rects2 = ax.bar(x + width/2, values_churn_1, width, label='Churn = 1', color='#EB8F8F')\n",
    "\n",
    "ax.set_title(\"nombre des appels des différents types d'appels des clients\")\n",
    "ax.set_xlabel('Type d\\'appel')\n",
    "ax.set_ylabel('nombre des appels')\n",
    "ax.set_xticks(x)\n",
    "ax.set_xticklabels(labels)\n",
    "ax.legend()\n",
    "\n",
    "plt.show()"
   ]
  },
  {
   "cell_type": "code",
   "execution_count": null,
   "id": "e0dec1ef",
   "metadata": {},
   "outputs": [],
   "source": [
    "f,ax=plt.subplots(2,3,figsize=(19,6),constrained_layout = True)\n",
    "sns.distplot(data[\"nb_jours_abonne\"],bins=10,ax=ax[0,0]);\n",
    "sns.distplot(data[\"nb_appels_jour\"],bins=10,ax=ax[0,1]);\n",
    "sns.distplot(data[\"nb_appel_soirée\"],bins=10,ax=ax[0,2]);\n",
    "sns.distplot(data[\"nb_appel_nuit\"],bins=10,ax=ax[1,0]);\n",
    "sns.distplot(data[\"nb_appel_inter\"],bins=10,ax=ax[1,1]);\n",
    "sns.distplot(data[\"nb_reclamation\"],bins=10,ax=ax[1,2]);"
   ]
  },
  {
   "cell_type": "code",
   "execution_count": null,
   "id": "e3c9a773",
   "metadata": {},
   "outputs": [],
   "source": [
    "#colors = ['#45A6B7', '#E7D7A5']\n",
    "\n",
    "#sns.lmplot('durée_appel_jour(minutes)', 'durée_appel_nuit(minutes)', data = data, hue='churn', palette=colors);\n",
    "#plt.title('Relation entre la durée d\\'appel de jour et de nuit pour les clients churn et non churn')\n"
   ]
  },
  {
   "cell_type": "code",
   "execution_count": null,
   "id": "0cba15e3",
   "metadata": {},
   "outputs": [],
   "source": [
    "fig, (ax1, ax2, ax3) = plt.subplots(ncols=3, figsize=(15, 5))\n",
    "\n",
    "sns.boxplot(x=\"churn\", y=\"cout_appel_jour\", data=data, ax=ax1)\n",
    "ax1.set(title='Répartition du churn selon cout d\\'appel par jour', xlabel='', ylabel='jour')\n",
    "\n",
    "sns.boxplot(x=\"churn\", y=\"cout_appel_soirée\", data=data, ax=ax2)\n",
    "ax2.set(title='Répartition du churn selon cout d\\'appel par soirée', xlabel='', ylabel='soirée')\n",
    "\n",
    "sns.boxplot(x=\"churn\", y=\"cout_appel_nuit\", data=data, ax=ax3)\n",
    "ax3.set(title='Répartition du churn selon cout d\\'appel par nuit', xlabel='', ylabel='nuit')\n",
    "\n",
    "plt.show()"
   ]
  },
  {
   "cell_type": "markdown",
   "id": "421689cd",
   "metadata": {},
   "source": [
    "Les clients qui résilient leurs abonnements paient plus cher, ce qui peut indiquer qu'ils ne sont pas satisfaits du montant de leur plan."
   ]
  },
  {
   "cell_type": "markdown",
   "id": "235c4781",
   "metadata": {},
   "source": [
    "# Prétraitement des données"
   ]
  },
  {
   "cell_type": "markdown",
   "id": "23e3391c",
   "metadata": {},
   "source": [
    "* **Suppression des colonnes inutiles**"
   ]
  },
  {
   "cell_type": "code",
   "execution_count": null,
   "id": "cc8e4e14",
   "metadata": {},
   "outputs": [],
   "source": [
    "for x in data.columns:\n",
    "    print(x , len(data[x].unique()))"
   ]
  },
  {
   "cell_type": "markdown",
   "id": "89eca1cc",
   "metadata": {},
   "source": [
    "La colonne \"id_client\" comporte 5000 valeurs différentes , il est préférable de la retirer de notre base de données, car elle n'est pas pertinente pour notre analyse."
   ]
  },
  {
   "cell_type": "code",
   "execution_count": null,
   "id": "d2cd53ac",
   "metadata": {},
   "outputs": [],
   "source": [
    "data = data.drop(['id_client'], axis= 1)"
   ]
  },
  {
   "cell_type": "code",
   "execution_count": null,
   "id": "ce36853b",
   "metadata": {},
   "outputs": [],
   "source": [
    "data.head()"
   ]
  },
  {
   "cell_type": "markdown",
   "id": "87814a33",
   "metadata": {},
   "source": [
    "* **Les valeurs manquantes**"
   ]
  },
  {
   "cell_type": "code",
   "execution_count": null,
   "id": "0f5ae47d",
   "metadata": {},
   "outputs": [],
   "source": [
    "# vérifier les valeur null\n",
    "data.isnull().sum()"
   ]
  },
  {
   "cell_type": "code",
   "execution_count": null,
   "id": "c2ae24e7",
   "metadata": {},
   "outputs": [],
   "source": [
    "plt.figure(figsize=(12,3))\n",
    "sns.heatmap(data.isna(),cbar=False)\n",
    "plt.title('Les valeurs manquantes', fontsize=18)"
   ]
  },
  {
   "cell_type": "markdown",
   "id": "bfbf0634",
   "metadata": {},
   "source": [
    "La figure ci-dessus montre qu'aucune colonne ne possède de valeurs manquantes"
   ]
  },
  {
   "cell_type": "markdown",
   "id": "fcc5ba76",
   "metadata": {},
   "source": [
    "* **Les valeurs dupliquées**\n"
   ]
  },
  {
   "cell_type": "code",
   "execution_count": null,
   "id": "d486aee5",
   "metadata": {},
   "outputs": [],
   "source": [
    "#Vérifier s'il y a des doublons\n",
    "print(data.duplicated().sum())"
   ]
  },
  {
   "cell_type": "markdown",
   "id": "b3bca25f",
   "metadata": {},
   "source": [
    "Le résultat est égal à 0, ce qui indique qu'il n'y a pas de lignes en double."
   ]
  },
  {
   "cell_type": "code",
   "execution_count": null,
   "id": "4d415705",
   "metadata": {},
   "outputs": [],
   "source": [
    "plt.figure(figsize=(16,9))\n",
    "sns.heatmap(data.corr(),cmap='crest',center=0.0, annot=True)\n",
    "plt.title('Matrice de corrélation', fontsize=18)"
   ]
  },
  {
   "cell_type": "markdown",
   "id": "0afaaecd",
   "metadata": {},
   "source": [
    "* **Les valeurs aberrantes**\n"
   ]
  },
  {
   "cell_type": "code",
   "execution_count": 111,
   "id": "4b7f4921",
   "metadata": {},
   "outputs": [
    {
     "name": "stderr",
     "output_type": "stream",
     "text": [
      "C:\\Users\\Imen\\AppData\\Local\\Temp\\ipykernel_18852\\3926072756.py:8: FutureWarning: Automatic reindexing on DataFrame vs Series comparisons is deprecated and will raise ValueError in a future version. Do `left, right = left.align(right, axis=1, copy=False)` before e.g. `left == right`\n",
      "  outliers=data[data.columns][(data[data.columns]>upper )| (data[data.columns]<lower) ]\n"
     ]
    },
    {
     "data": {
      "text/plain": [
       "id_client                              0\n",
       "nb_jours_abonne                   5294.0\n",
       "durée_appel_jour(minutes)         5975.5\n",
       "nb_appels_jour                    2779.0\n",
       "cout_appel_jour                10773.026\n",
       "durée_appel_soirée(minutes)       8340.9\n",
       "nb_appel_soirée                   2489.0\n",
       "cout_appel_soirée                 680.45\n",
       "durée_appel_nuit(minutes)         7560.0\n",
       "nb_appel_nuit                     4761.0\n",
       "cout_appel_nuit                   340.19\n",
       "durée_appel_inter(minutes)         569.3\n",
       "nb_appel_inter                    1513.0\n",
       "cout_appel_inter                  153.73\n",
       "active_msg_vocaux                      0\n",
       "nb_msg_vocaux                     2725.0\n",
       "nb_reclamation                    1817.0\n",
       "churn                                  0\n",
       "dtype: object"
      ]
     },
     "execution_count": 111,
     "metadata": {},
     "output_type": "execute_result"
    }
   ],
   "source": [
    "# Détection.des valeurs aberrantes\n",
    "Q1= data[data.columns].quantile(0.25)\n",
    "Q3= data[data.columns].quantile(0.75)\n",
    "IQR= Q3-Q1\n",
    "\n",
    "upper=Q3+1.5*IQR\n",
    "lower= Q1-1.5*IQR\n",
    "outliers=data[data.columns][(data[data.columns]>upper )| (data[data.columns]<lower) ]\n",
    "outliers.sum()"
   ]
  },
  {
   "cell_type": "code",
   "execution_count": 114,
   "id": "24a45087",
   "metadata": {},
   "outputs": [
    {
     "data": {
      "image/png": "[encoded data removed]",
      "text/plain": [
       "<Figure size 432x288 with 1 Axes>"
      ]
     },
     "metadata": {
      "needs_background": "light"
     },
     "output_type": "display_data"
    }
   ],
   "source": [
    "import matplotlib.pyplot as plt\n",
    "\n",
    "col = \"nb_reclamation\"\n",
    "plt.boxplot(data[col])\n",
    "plt.title(\"Boxplot de la colonne \" + col)\n",
    "plt.show()"
   ]
  },
  {
   "cell_type": "code",
   "execution_count": 112,
   "id": "92b45455",
   "metadata": {},
   "outputs": [
    {
     "data": {
      "text/plain": [
       "nb_jours_abonne                    AxesSubplot(0.125,0.71587;0.133621x0.16413)\n",
       "durée_appel_jour(minutes)       AxesSubplot(0.285345,0.71587;0.133621x0.16413)\n",
       "nb_appels_jour                   AxesSubplot(0.44569,0.71587;0.133621x0.16413)\n",
       "cout_appel_jour                 AxesSubplot(0.606034,0.71587;0.133621x0.16413)\n",
       "durée_appel_soirée(minutes)     AxesSubplot(0.766379,0.71587;0.133621x0.16413)\n",
       "nb_appel_soirée                   AxesSubplot(0.125,0.518913;0.133621x0.16413)\n",
       "cout_appel_soirée              AxesSubplot(0.285345,0.518913;0.133621x0.16413)\n",
       "durée_appel_nuit(minutes)       AxesSubplot(0.44569,0.518913;0.133621x0.16413)\n",
       "nb_appel_nuit                  AxesSubplot(0.606034,0.518913;0.133621x0.16413)\n",
       "cout_appel_nuit                AxesSubplot(0.766379,0.518913;0.133621x0.16413)\n",
       "durée_appel_inter(minutes)        AxesSubplot(0.125,0.321957;0.133621x0.16413)\n",
       "nb_appel_inter                 AxesSubplot(0.285345,0.321957;0.133621x0.16413)\n",
       "cout_appel_inter                AxesSubplot(0.44569,0.321957;0.133621x0.16413)\n",
       "nb_msg_vocaux                  AxesSubplot(0.606034,0.321957;0.133621x0.16413)\n",
       "nb_reclamation                 AxesSubplot(0.766379,0.321957;0.133621x0.16413)\n",
       "dtype: object"
      ]
     },
     "execution_count": 112,
     "metadata": {},
     "output_type": "execute_result"
    },
    {
     "data": {
      "image/png": "[encoded data removed]",
      "text/plain": [
       "<Figure size 720x720 with 20 Axes>"
      ]
     },
     "metadata": {
      "needs_background": "light"
     },
     "output_type": "display_data"
    }
   ],
   "source": [
    "data.plot(kind=\"box\", subplots=True, layout=(4,5) , figsize=(10,10))"
   ]
  },
  {
   "cell_type": "markdown",
   "id": "081f73a0",
   "metadata": {},
   "source": [
    "# Encodage des données\n"
   ]
  },
  {
   "cell_type": "code",
   "execution_count": null,
   "id": "8c28072b",
   "metadata": {},
   "outputs": [],
   "source": [
    "data.dtypes"
   ]
  },
  {
   "cell_type": "markdown",
   "id": "de36bc05",
   "metadata": {},
   "source": [
    "2 colonnes de type object : `active_msg_vocaux` et `churn`\n",
    "remplacer : \n",
    "* la valeur \"yes\" et \"True.\" par 1 \n",
    "* la valeur \"no\" et \"False.\" par 0"
   ]
  },
  {
   "cell_type": "code",
   "execution_count": null,
   "id": "e439740b",
   "metadata": {},
   "outputs": [],
   "source": [
    "label_encoder = LabelEncoder()\n",
    "data['active_msg_vocaux'] = label_encoder.fit_transform(data['active_msg_vocaux'])\n",
    "data['churn'] = label_encoder.fit_transform(data['churn'])\n",
    "data.T"
   ]
  },
  {
   "cell_type": "code",
   "execution_count": null,
   "id": "67d8cee1",
   "metadata": {},
   "outputs": [],
   "source": [
    "corr = data.corr()[['churn']]\n",
    "plt.figure(figsize=(10,8))\n",
    "sns.heatmap(corr, cmap='crest', annot=True, center=0.0)\n",
    "plt.title('Corrélation entre \"churn\" et les autres variables', fontsize=16)\n",
    "plt.show()\n"
   ]
  },
  {
   "cell_type": "markdown",
   "id": "1ccba161",
   "metadata": {},
   "source": [
    "# Normalisation"
   ]
  },
  {
   "cell_type": "code",
   "execution_count": null,
   "id": "2535aab7",
   "metadata": {},
   "outputs": [],
   "source": [
    "x=data.drop([\"churn\"], axis=1)\n",
    "y=data[\"churn\"]"
   ]
  },
  {
   "cell_type": "markdown",
   "id": "a8c7eb6b",
   "metadata": {},
   "source": [
    "* Feature : Toute les variables sauf \"churn\"\n",
    "* Target  : Churn"
   ]
  },
  {
   "cell_type": "code",
   "execution_count": null,
   "id": "165dce1f",
   "metadata": {},
   "outputs": [],
   "source": [
    "x_train,x_test,y_train,y_test = train_test_split(x,y,test_size=0.2, random_state=15)\n",
    "print(\"X_train : \",x_train.shape) \n",
    "print(\"X_test : \",x_test.shape) \n",
    "print(\"Y_train : \",y_train.shape) \n",
    "print(\"Y_test : \",y_test.shape)"
   ]
  },
  {
   "cell_type": "markdown",
   "id": "1b0b96cc",
   "metadata": {},
   "source": [
    "On divise les données en 2 parties :\n",
    "   * 80% : L'entrainement des données\n",
    "   * 20% : Le test de modèle"
   ]
  },
  {
   "cell_type": "code",
   "execution_count": null,
   "id": "fdc7379e",
   "metadata": {},
   "outputs": [],
   "source": [
    "sc=StandardScaler()\n",
    "x_train = sc.fit_transform(x_train)\n",
    "x_test = sc.transform(x_test)"
   ]
  },
  {
   "cell_type": "markdown",
   "id": "e238b38d",
   "metadata": {},
   "source": [
    "z = (x - u) / s\n",
    "* x : la valeur de la variable à transformer\n",
    "* u : la moyenne de la variable\n",
    "* s : l'écart type de la variable\n",
    "* z : la valeur transformée de la variable"
   ]
  },
  {
   "cell_type": "markdown",
   "id": "ed0029df",
   "metadata": {},
   "source": [
    "# Modeling"
   ]
  },
  {
   "cell_type": "markdown",
   "id": "22406342",
   "metadata": {},
   "source": [
    "##### Cross-validation + ROC_AUC score"
   ]
  },
  {
   "cell_type": "code",
   "execution_count": null,
   "id": "40b28158",
   "metadata": {},
   "outputs": [],
   "source": [
    "def model(classifier,x_train,y_train,x_test,y_test):\n",
    "    \n",
    "    classifier.fit(x_train,y_train)\n",
    "    prediction = classifier.predict(x_test)\n",
    "    cv = RepeatedStratifiedKFold(n_splits = 10,n_repeats = 3,random_state = 1)\n",
    "    print(\"Cross Validation Score : \",'{0:.2%}'.format(cross_val_score(classifier,x_train,y_train,cv = cv,scoring = 'roc_auc').mean()))\n",
    "    print(\"ROC_AUC Score : \",'{0:.2%}'.format(roc_auc_score(y_test,prediction)))\n",
    "    plot_roc_curve(classifier, x_test,y_test)\n",
    "    plt.title('ROC_AUC_Plot')\n",
    "    plt.show()"
   ]
  },
  {
   "cell_type": "markdown",
   "id": "12bd0ce4",
   "metadata": {},
   "source": [
    "### 1- Logistic Regression\n"
   ]
  },
  {
   "cell_type": "code",
   "execution_count": null,
   "id": "33816cff",
   "metadata": {},
   "outputs": [],
   "source": [
    "log_regression = LogisticRegression()\n",
    "log_regression.fit(x_train,y_train)\n",
    "\n",
    "score_logr = log_regression.score(x_test, y_test)*100\n",
    "print(\" Le test score est = \", score_logr)"
   ]
  },
  {
   "cell_type": "markdown",
   "id": "5c96f3ef",
   "metadata": {},
   "source": [
    "* **Matrice de confusion**"
   ]
  },
  {
   "cell_type": "code",
   "execution_count": null,
   "id": "b9d94a33",
   "metadata": {},
   "outputs": [],
   "source": [
    "plot_confusion_matrix(log_regression, x_test, y_test,cmap=plt.cm.YlGnBu)\n",
    "plt.show()"
   ]
  },
  {
   "cell_type": "markdown",
   "id": "fcb65943",
   "metadata": {},
   "source": [
    "* **Classification report**\n"
   ]
  },
  {
   "cell_type": "code",
   "execution_count": null,
   "id": "4774ae9a",
   "metadata": {},
   "outputs": [],
   "source": [
    "y_pred = log_regression.predict(x_test)\n",
    "print(classification_report(y_test, y_pred, digits=5))"
   ]
  },
  {
   "cell_type": "markdown",
   "id": "fd413e94",
   "metadata": {},
   "source": [
    "*  **Learning Curve**\n"
   ]
  },
  {
   "cell_type": "code",
   "execution_count": null,
   "id": "702d33b8",
   "metadata": {},
   "outputs": [],
   "source": [
    "train_size, train_score, test_score = learning_curve(log_regression, x_train, y_train, train_sizes=np.linspace(0.1,1,10), cv=5, random_state=10)\n",
    "plt.plot(train_size, train_score.mean(axis=1), train_size, test_score.mean(axis=1))\n",
    "plt.legend(('train_score', 'test_score'))\n",
    "plt.xlabel('train_size')\n",
    "plt.ylabel('score')\n",
    "plt.grid(True)\n",
    "plt.show()"
   ]
  },
  {
   "cell_type": "markdown",
   "id": "a4061351",
   "metadata": {},
   "source": [
    "### 2- K-nearest neighbors : KNN"
   ]
  },
  {
   "cell_type": "code",
   "execution_count": null,
   "id": "6eee6225",
   "metadata": {},
   "outputs": [],
   "source": [
    "knn=KNeighborsClassifier(n_neighbors=5)\n",
    "knn.fit(x_train, y_train)\n",
    "print('Le test score est :', knn.score(x_test, y_test)*100)"
   ]
  },
  {
   "cell_type": "markdown",
   "id": "44baa4e9",
   "metadata": {},
   "source": [
    "* **RandomizedSearchCV**"
   ]
  },
  {
   "cell_type": "markdown",
   "id": "325411db",
   "metadata": {},
   "source": [
    "La méthode RandomizedSearchCV est une technique de recherche aléatoire d'hyperparamètres qui permet d'optimiser les performances d'un modèle de machine learning."
   ]
  },
  {
   "cell_type": "code",
   "execution_count": null,
   "id": "638f616e",
   "metadata": {},
   "outputs": [],
   "source": [
    "param_grid = {'n_neighbors' : np.arange(1,20),\n",
    "              'metric' : ['euclidean', 'manhattan', 'minkowski']}\n",
    "\n",
    "final_Knn = RandomizedSearchCV(KNeighborsClassifier(),param_distributions= param_grid,n_iter=10, random_state=3, cv=5)\n",
    "\n",
    "final_Knn.fit(x_train, y_train)\n",
    "score_knn= final_Knn.score(x_test, y_test)*100\n",
    "print(\" Les meilleurs hyperparamètres :\" , final_Knn.best_params_)\n",
    "print(\" Le score test est :\" , score_knn)"
   ]
  },
  {
   "cell_type": "markdown",
   "id": "803c71ee",
   "metadata": {},
   "source": [
    "* **Matrice de confusion**"
   ]
  },
  {
   "cell_type": "code",
   "execution_count": null,
   "id": "6be484de",
   "metadata": {},
   "outputs": [],
   "source": [
    "plot_confusion_matrix(final_Knn, x_test, y_test,cmap=plt.cm.YlGnBu)\n",
    "plt.show()"
   ]
  },
  {
   "cell_type": "markdown",
   "id": "716a97fd",
   "metadata": {},
   "source": [
    "* **Classification report**\n"
   ]
  },
  {
   "cell_type": "code",
   "execution_count": null,
   "id": "da25fc22",
   "metadata": {},
   "outputs": [],
   "source": [
    "y_pred = final_Knn.predict(x_test)\n",
    "print(classification_report(y_test, y_pred, digits=5))"
   ]
  },
  {
   "cell_type": "markdown",
   "id": "b3bf510a",
   "metadata": {},
   "source": [
    "*  **Learning Curve**"
   ]
  },
  {
   "cell_type": "code",
   "execution_count": null,
   "id": "95f19cc3",
   "metadata": {},
   "outputs": [],
   "source": [
    "train_size, train_score, test_score = learning_curve(final_Knn, x_train, y_train, train_sizes=np.linspace(0.1,1,10), cv=5, random_state=0)\n",
    "plt.plot(train_size, train_score.mean(axis=1), train_size, test_score.mean(axis=1))\n",
    "plt.legend(('train_score', 'test_score'))\n",
    "plt.xlabel('train_size')\n",
    "plt.ylabel('score')\n",
    "plt.grid(True)\n",
    "plt.show()"
   ]
  },
  {
   "cell_type": "markdown",
   "id": "348ca932",
   "metadata": {},
   "source": [
    "### 3- XGBOOT"
   ]
  },
  {
   "cell_type": "code",
   "execution_count": null,
   "id": "fe917369",
   "metadata": {},
   "outputs": [],
   "source": [
    "xgb = XGBClassifier()\n",
    "xgb.fit(x_train, y_train)\n",
    "score_xgb=xgb.score(x_test, y_test)*100\n",
    "print('Le test score est :', score_xgb)"
   ]
  },
  {
   "cell_type": "markdown",
   "id": "6b6554d8",
   "metadata": {},
   "source": [
    "* **RandomizedSearchCV**"
   ]
  },
  {
   "cell_type": "code",
   "execution_count": null,
   "id": "feb2e067",
   "metadata": {},
   "outputs": [],
   "source": [
    "params = {\n",
    "        'min_child_weight': range(10),\n",
    "        'gamma': [0.5, 1, 1.2],\n",
    "        'subsample': [0.6, 0.8],\n",
    "        'colsample_bytree': [0.5, 0.6, 0.7, 0.8, 0.9, 1.0, 1.1, 1.2, 1.3, 1.4, 1.5],\n",
    "        'max_depth': range(10)\n",
    "        }\n",
    "grid = RandomizedSearchCV(XGBClassifier(), param_distributions=params, cv =5, n_jobs=-1, n_iter=10)\n",
    "grid.fit(x_train, y_train)\n",
    "print(\"Les meilleurs hyperparamètres :\",grid.best_params_) "
   ]
  },
  {
   "cell_type": "code",
   "execution_count": null,
   "id": "6230aa6e",
   "metadata": {},
   "outputs": [],
   "source": [
    "xgb_final = XGBClassifier(subsample=0.8,\n",
    "                          min_child_weight=0,\n",
    "                          max_depth=9,\n",
    "                          gamma=0.5, \n",
    "                          colsample_bytree=0.8,\n",
    "                          random_state=5)\n",
    "xgb_final.fit(x_train, y_train)\n",
    "print('Le test score est :', xgb_final.score(x_test, y_test)*100)\n"
   ]
  },
  {
   "cell_type": "markdown",
   "id": "b4b06d55",
   "metadata": {},
   "source": [
    "* **Matrice de confusion**"
   ]
  },
  {
   "cell_type": "code",
   "execution_count": null,
   "id": "93bcb551",
   "metadata": {},
   "outputs": [],
   "source": [
    "plot_confusion_matrix(xgb_final, x_test, y_test,cmap=plt.cm.YlGnBu)\n",
    "plt.show()"
   ]
  },
  {
   "cell_type": "markdown",
   "id": "d3004a9d",
   "metadata": {},
   "source": [
    "* **Classification report**\n"
   ]
  },
  {
   "cell_type": "code",
   "execution_count": null,
   "id": "59937c21",
   "metadata": {},
   "outputs": [],
   "source": [
    "y_pred = xgb_final.predict(x_test)\n",
    "print(classification_report(y_test, y_pred, digits=5))"
   ]
  },
  {
   "cell_type": "markdown",
   "id": "c5879f30",
   "metadata": {},
   "source": [
    "*  **Learning Curve**"
   ]
  },
  {
   "cell_type": "code",
   "execution_count": null,
   "id": "4a18d8d3",
   "metadata": {},
   "outputs": [],
   "source": [
    "train_size, train_score, test_score = learning_curve(xgb_final, x_train, y_train, train_sizes=np.linspace(0.1,1,50), cv=10, random_state=3 )\n",
    "plt.plot(train_size, train_score.mean(axis=1), train_size, test_score.mean(axis=1))\n",
    "plt.legend(('train_score', 'test_score'))\n",
    "plt.xlabel('train_size')\n",
    "plt.ylabel('score')\n",
    "plt.grid(True)\n",
    "plt.show()"
   ]
  },
  {
   "cell_type": "markdown",
   "id": "8cff912d",
   "metadata": {},
   "source": [
    "### 4- Random Forest"
   ]
  },
  {
   "cell_type": "code",
   "execution_count": null,
   "id": "2d177070",
   "metadata": {},
   "outputs": [],
   "source": [
    "RandF=RandomForestClassifier(n_estimators=200)\n",
    "RandF.fit(x_train,y_train)\n",
    "y_pred=RandF.predict(x_test)\n",
    "score_RandF=RandF.score(x_test,y_test)*100\n",
    "print(\"Le test score est \", score_RandF)"
   ]
  },
  {
   "cell_type": "markdown",
   "id": "2cc32105",
   "metadata": {},
   "source": [
    "* **GridSearchCV**"
   ]
  },
  {
   "cell_type": "markdown",
   "id": "bd211552",
   "metadata": {},
   "source": [
    "GridSearchCV est un outil pour trouver automatiquement les meilleurs paramètres pour un modèle d'apprentissage automatique.\n"
   ]
  },
  {
   "cell_type": "code",
   "execution_count": null,
   "id": "9cad77f2",
   "metadata": {},
   "outputs": [],
   "source": [
    "param_grid = {\n",
    "    'n_estimators': [2,4]\n",
    "}\n",
    "\n",
    "rfc = GridSearchCV(RandF, param_grid=param_grid, cv= 5)\n",
    "rfc.fit(x_train, y_train)\n",
    "print (rfc.best_params_)"
   ]
  },
  {
   "cell_type": "code",
   "execution_count": null,
   "id": "ed2d65da",
   "metadata": {},
   "outputs": [],
   "source": [
    "randForest_final = RandomForestClassifier(n_estimators =4 ,random_state=0)\n",
    "randForest_final.fit(x_train, y_train)\n",
    "print('Le test score est :', randForest_final.score(x_test, y_test)*100)"
   ]
  },
  {
   "cell_type": "markdown",
   "id": "b111fa00",
   "metadata": {},
   "source": [
    "* **Matrice de confusion**"
   ]
  },
  {
   "cell_type": "code",
   "execution_count": null,
   "id": "88246ec1",
   "metadata": {},
   "outputs": [],
   "source": [
    "plot_confusion_matrix(RandF, x_test, y_test,cmap=plt.cm.YlGnBu)\n",
    "plt.show()"
   ]
  },
  {
   "cell_type": "markdown",
   "id": "9bdc5641",
   "metadata": {},
   "source": [
    "* **Classification report**"
   ]
  },
  {
   "cell_type": "code",
   "execution_count": null,
   "id": "47bd4bb7",
   "metadata": {},
   "outputs": [],
   "source": [
    "y_pred = RandF.predict(x_test)\n",
    "print(classification_report(y_test, y_pred, digits=5))"
   ]
  },
  {
   "cell_type": "markdown",
   "id": "5a8515fe",
   "metadata": {},
   "source": [
    "*  **Learning Curve**"
   ]
  },
  {
   "cell_type": "code",
   "execution_count": null,
   "id": "24c192c5",
   "metadata": {},
   "outputs": [],
   "source": [
    "train_size, train_score, test_score = learning_curve(RandF, x_train, y_train, train_sizes=np.linspace(0.1,1,50), cv=10, random_state=3 )\n",
    "plt.plot(train_size, train_score.mean(axis=1), train_size, test_score.mean(axis=1))\n",
    "plt.legend(('train_score', 'test_score'))\n",
    "plt.xlabel('train_size')\n",
    "plt.ylabel('score')\n",
    "plt.grid(True)\n",
    "plt.show()"
   ]
  },
  {
   "cell_type": "markdown",
   "id": "b51c00ef",
   "metadata": {},
   "source": [
    "### 5-Decision Tree"
   ]
  },
  {
   "cell_type": "code",
   "execution_count": null,
   "id": "4608351a",
   "metadata": {},
   "outputs": [],
   "source": [
    "desc_tree = DecisionTreeClassifier(random_state=0, max_depth=4, min_samples_split=6)\n",
    "desc_tree.fit(x_train, y_train)\n",
    "score_tree=desc_tree.score(x_test, y_test)*100\n",
    "print('Le test score est :', score_tree)"
   ]
  },
  {
   "cell_type": "markdown",
   "id": "d87e1aed",
   "metadata": {},
   "source": [
    "* **Visualisation de l'arbre de décision**"
   ]
  },
  {
   "cell_type": "code",
   "execution_count": null,
   "id": "886528ad",
   "metadata": {},
   "outputs": [],
   "source": [
    "plt.figure(figsize=(13,8))\n",
    "tree.plot_tree(desc_tree, filled=True)\n",
    "plt.show()"
   ]
  },
  {
   "cell_type": "markdown",
   "id": "be7646f8",
   "metadata": {},
   "source": [
    "* **GridSearchCV**"
   ]
  },
  {
   "cell_type": "code",
   "execution_count": null,
   "id": "afdbc4e9",
   "metadata": {},
   "outputs": [],
   "source": [
    "param_grid = {'criterion': ['gini', 'entropy'],\n",
    "             'max_depth': np.arange(1,10)}\n",
    "AD = GridSearchCV(DecisionTreeClassifier(random_state=1), param_grid=param_grid, cv=5)\n",
    "AD.fit(x_train, y_train)\n",
    "AD.best_params_"
   ]
  },
  {
   "cell_type": "code",
   "execution_count": null,
   "id": "dc7e5b92",
   "metadata": {},
   "outputs": [],
   "source": [
    "DT_final = DecisionTreeClassifier(random_state=1, criterion='entropy', max_depth=5)\n",
    "DT_final.fit(x_train, y_train)\n",
    "print( 'Le Test score est : ',DT_final.score(x_test, y_test)*100)"
   ]
  },
  {
   "cell_type": "markdown",
   "id": "d4f08e4b",
   "metadata": {},
   "source": [
    "* **Matrice de confusion**"
   ]
  },
  {
   "cell_type": "code",
   "execution_count": null,
   "id": "b604b531",
   "metadata": {},
   "outputs": [],
   "source": [
    "plot_confusion_matrix(DT_final, x_test, y_test,cmap=plt.cm.Blues)\n",
    "plt.show()"
   ]
  },
  {
   "cell_type": "markdown",
   "id": "7de612bc",
   "metadata": {},
   "source": [
    "* **Classification report**"
   ]
  },
  {
   "cell_type": "code",
   "execution_count": null,
   "id": "f492dfc1",
   "metadata": {},
   "outputs": [],
   "source": [
    "y_pred = desc_tree.predict(x_test)\n",
    "print(classification_report(y_test, y_pred,digits=6 ))"
   ]
  },
  {
   "cell_type": "markdown",
   "id": "e21b3d12",
   "metadata": {},
   "source": [
    "*  **Learning Curve**"
   ]
  },
  {
   "cell_type": "code",
   "execution_count": null,
   "id": "20de02b6",
   "metadata": {},
   "outputs": [],
   "source": [
    "train_size, train_score, test_score = learning_curve(DT_final, x_train, y_train, train_sizes=np.linspace(0.1,1,50), cv=10, random_state=3 )\n",
    "plt.plot(train_size, train_score.mean(axis=1), train_size, test_score.mean(axis=1))\n",
    "plt.legend(('train_score', 'test_score'))\n",
    "plt.xlabel('train_size')\n",
    "plt.ylabel('score')\n",
    "plt.grid(True)\n",
    "plt.show()"
   ]
  },
  {
   "cell_type": "markdown",
   "id": "bd8b94b1",
   "metadata": {},
   "source": [
    "### 6- SVM"
   ]
  },
  {
   "cell_type": "code",
   "execution_count": null,
   "id": "52a77732",
   "metadata": {},
   "outputs": [],
   "source": [
    "svm = SVC(kernel='linear', probability=True)\n",
    "svm.fit(x_train, y_train)\n",
    "#y_pred=svm.predict(x_test)\n",
    "score_svm= svm.score(x_test,y_test)*100\n",
    "print(\" Le test score est : \", score_svm)"
   ]
  },
  {
   "cell_type": "markdown",
   "id": "56e95708",
   "metadata": {},
   "source": [
    "* **GridSearchCV**\n"
   ]
  },
  {
   "cell_type": "code",
   "execution_count": null,
   "id": "8d8ecebb",
   "metadata": {},
   "outputs": [],
   "source": [
    "param_grid = {\n",
    "    'gamma': [0.001, 0.01, 0.1] \n",
    "}\n",
    "best_svm = GridSearchCV(estimator=svm, param_grid=param_grid, cv= 5)\n",
    "best_svm.fit(x_train, y_train)\n",
    "best_svm.best_params_"
   ]
  },
  {
   "cell_type": "code",
   "execution_count": null,
   "id": "f374f1c4",
   "metadata": {},
   "outputs": [],
   "source": [
    "final_SVM = SVC(gamma=0.1, random_state=False )\n",
    "final_SVM.fit(x_train, y_train)\n",
    "print('Test score : ',round(final_SVM.score(x_test, y_test) * 100, 2))"
   ]
  },
  {
   "cell_type": "markdown",
   "id": "1d4a54b1",
   "metadata": {},
   "source": [
    "* **Matrice de confusion**"
   ]
  },
  {
   "cell_type": "code",
   "execution_count": null,
   "id": "33dfb244",
   "metadata": {},
   "outputs": [],
   "source": [
    "plot_confusion_matrix(final_SVM, x_test, y_test,cmap=plt.cm.Reds)\n",
    "plt.show()"
   ]
  },
  {
   "cell_type": "markdown",
   "id": "1208c28f",
   "metadata": {},
   "source": [
    "* **Classification report**"
   ]
  },
  {
   "cell_type": "code",
   "execution_count": null,
   "id": "0d4ef674",
   "metadata": {},
   "outputs": [],
   "source": [
    "y_pred =final_SVM.predict(x_test)\n",
    "\n",
    "print(classification_report(y_test, y_pred,digits=6 ))"
   ]
  },
  {
   "cell_type": "markdown",
   "id": "36e88330",
   "metadata": {},
   "source": [
    "*  **Learning Curve**"
   ]
  },
  {
   "cell_type": "code",
   "execution_count": null,
   "id": "61af2099",
   "metadata": {},
   "outputs": [],
   "source": [
    "train_size, train_score, test_score = learning_curve(final_SVM, x_train, y_train, train_sizes=np.linspace(0.1,1,50), cv=10, random_state=3 )\n",
    "plt.plot(train_size, train_score.mean(axis=1), train_size, test_score.mean(axis=1))\n",
    "plt.legend(('train_score', 'test_score'))\n",
    "plt.xlabel('train_size')\n",
    "plt.ylabel('score')\n",
    "plt.grid(True)\n",
    "plt.show()"
   ]
  },
  {
   "cell_type": "markdown",
   "id": "acf69e13",
   "metadata": {},
   "source": [
    "### 7-Naive Bayes\n"
   ]
  },
  {
   "cell_type": "code",
   "execution_count": null,
   "id": "982d6c34",
   "metadata": {},
   "outputs": [],
   "source": [
    "GNB = GaussianNB()\n",
    "GNB.fit(x_train,y_train)\n",
    "\n",
    "BNB= BernoulliNB()\n",
    "BNB.fit(x_train,y_train)\n",
    "\n",
    "print(\" Le test score  de GaussianNB: \", GNB.score(x_test,y_test)*100)\n",
    "print(\" Le test score  de BernoulliNB: \", BNB.score(x_test,y_test)*100)\n",
    "score_gnb=GNB.score(x_test,y_test)*100"
   ]
  },
  {
   "cell_type": "markdown",
   "id": "523c92e5",
   "metadata": {},
   "source": [
    "* **RandomizedSearchCV**"
   ]
  },
  {
   "cell_type": "code",
   "execution_count": null,
   "id": "79e113bd",
   "metadata": {},
   "outputs": [],
   "source": [
    "hyperparameters = {\n",
    "    'var_smoothing': uniform(1e-9, 1e-7)\n",
    "}\n",
    "final_NB = RandomizedSearchCV(GNB, hyperparameters, cv=5, n_iter=10, n_jobs=-1)\n",
    "final_NB.fit(x_train, y_train)\n",
    "print(\"Meilleur parameter \",final_NB.best_params_)\n",
    "print(\"Le score : \",final_NB.best_score_*100)\n"
   ]
  },
  {
   "cell_type": "markdown",
   "id": "15a463fe",
   "metadata": {},
   "source": [
    "* **Matrice de confusion**"
   ]
  },
  {
   "cell_type": "code",
   "execution_count": null,
   "id": "aaca35b1",
   "metadata": {},
   "outputs": [],
   "source": [
    "plot_confusion_matrix(GNB, x_test, y_test,cmap=plt.cm.Blues)\n",
    "plt.show()"
   ]
  },
  {
   "cell_type": "markdown",
   "id": "867a6dad",
   "metadata": {},
   "source": [
    "* **Classification report**"
   ]
  },
  {
   "cell_type": "code",
   "execution_count": null,
   "id": "7894ca39",
   "metadata": {},
   "outputs": [],
   "source": [
    "y_pred=GNB.predict(x_test)\n",
    "print(classification_report(y_test, y_pred))"
   ]
  },
  {
   "cell_type": "markdown",
   "id": "12812229",
   "metadata": {},
   "source": [
    "*  **Learning Curve**"
   ]
  },
  {
   "cell_type": "code",
   "execution_count": null,
   "id": "b598abb5",
   "metadata": {},
   "outputs": [],
   "source": [
    "train_size, train_score, test_score = learning_curve(GNB, x_train, y_train, train_sizes=np.linspace(0.1,1,50), cv=10, random_state=3 )\n",
    "plt.plot(train_size, train_score.mean(axis=1), train_size, test_score.mean(axis=1))\n",
    "plt.legend(('train_score', 'test_score'))\n",
    "plt.xlabel('train_size')\n",
    "plt.ylabel('score')\n",
    "plt.grid(True)\n",
    "plt.show()"
   ]
  },
  {
   "cell_type": "markdown",
   "id": "2a6756c4",
   "metadata": {},
   "source": [
    "# Comparaison des modeles \n"
   ]
  },
  {
   "cell_type": "code",
   "execution_count": null,
   "id": "8d3b5314",
   "metadata": {},
   "outputs": [],
   "source": [
    "Model_Comparison = pd.DataFrame({\n",
    "    'Model': ['Logistic Regression', 'Support Vector Machine', 'K-Nearest Neighbor', \n",
    "              'Decision Tree', 'Random Forest', 'XGBoost Classifier', 'Naive bayse'],\n",
    "    'Score': [score_logr, score_svm, score_knn, \n",
    "              score_tree, score_RandF, score_xgb, score_gnb]})\n",
    "Model_Comparison_df = Model_Comparison.sort_values(by='Score', ascending=False)\n",
    "Model_Comparison_df = Model_Comparison_df.set_index('Score')\n",
    "Model_Comparison_df.reset_index()"
   ]
  },
  {
   "cell_type": "code",
   "execution_count": null,
   "id": "beb65f1d",
   "metadata": {},
   "outputs": [],
   "source": [
    "score = [score_logr, score_svm, score_knn, score_tree, score_RandF, score_xgb, score_gnb]\n",
    "model_names = ['Logistic Regression', 'Support Vector Machine', 'K-Nearest Neighbor', \n",
    "              'Decision Tree', 'Random Forest', 'XGBoost Classifier', 'Naive bayse']\n",
    "plt.figure(figsize=(15,7))\n",
    "sns.barplot(score,model_names)\n",
    "plt.xlim(70,100)\n",
    "plt.xlabel('score %')\n",
    "plt.ylabel('Classification Algorithms')\n"
   ]
  },
  {
   "cell_type": "code",
   "execution_count": null,
   "id": "0283b8d5",
   "metadata": {},
   "outputs": [],
   "source": [
    "y_scores_logisticregression = log_regression.predict_proba(x_test)\n",
    "y_scores_NaiveBayes = GNB.predict_proba(x_test)\n",
    "y_scores_RandomForest = RandF.predict_proba(x_test)\n",
    "y_scores_DesionTree = DT_final.predict_proba(x_test)\n",
    "y_scores_KNN = final_Knn.predict_proba(x_test)\n",
    "y_scores_Xgboost = xgb_final.predict_proba(x_test)\n",
    "y_scores_SVM = final_SVM.predict_proba(x_test)\n",
    "\n",
    "\n",
    "fpr1, tpr1, thresholds1 = roc_curve(y_test, y_scores_logisticregression[:, 1])\n",
    "fpr2, tpr2, thresholds2 = roc_curve(y_test, y_scores_NaiveBayes[:, 1])\n",
    "fpr3, tpr3, thresholds3 = roc_curve(y_test, y_scores_RandomForest[:, 1])\n",
    "fpr4, tpr4, thresholds4 = roc_curve(y_test, y_scores_DesionTree[:, 1])\n",
    "fpr5, tpr5, thresholds5 = roc_curve(y_test, y_scores_KNN[:, 1])\n",
    "fpr6, tpr6, thresholds6 = roc_curve(y_test, y_scores_Xgboost[:, 1])\n",
    "fpr7, tpr7, thresholds7 = roc_curve(y_test, y_scores_SVM[:, 1])\n",
    "\n",
    "plt.figure(figsize=(15,7))\n",
    "\n",
    "plt.plot(fpr1, tpr1, 'green', label=\"Logistic Regression\")\n",
    "plt.plot(fpr6, tpr6, 'blue',label=\"NaiveBayes\")\n",
    "plt.plot(fpr3, tpr3, '#33d6ff',label=\"Random Forest\")\n",
    "plt.plot(fpr2, tpr2, '#c933ff',label=\"DesionTree\")\n",
    "plt.plot(fpr5, tpr5, 'red',label=\"KNN\")\n",
    "plt.plot(fpr4, tpr4, 'black',label=\"Xgboost\")\n",
    "plt.plot(fpr7, tpr7, '#ff8f33',label=\"SVM\")\n",
    "\n",
    "plt.xlim([0,1])\n",
    "plt.ylim([0,1])\n",
    "plt.xlabel('False positive rate')\n",
    "plt.ylabel('True positive rate')\n",
    "plt.plot([0,1], [0,1] , 'r')\n",
    "plt.grid(True)\n",
    "plt.legend()\n",
    "plt.show() \n"
   ]
  },
  {
   "cell_type": "code",
   "execution_count": null,
   "id": "194affb1",
   "metadata": {},
   "outputs": [],
   "source": [
    "from sklearn.metrics import roc_auc_score\n",
    "auc1 = roc_auc_score(y_test, y_scores_logisticregression[:, 1])\n",
    "auc2 = roc_auc_score(y_test, y_scores_NaiveBayes[:, 1])\n",
    "auc3 = roc_auc_score(y_test, y_scores_RandomForest[:, 1])\n",
    "auc4 = roc_auc_score(y_test, y_scores_DesionTree[:, 1])\n",
    "auc5 = roc_auc_score(y_test, y_scores_KNN[:, 1])\n",
    "auc6 = roc_auc_score(y_test, y_scores_Xgboost[:, 1])\n",
    "auc7 = roc_auc_score(y_test, y_scores_SVM[:, 1])\n",
    "\n",
    "print('AUC logisticregression: %.3f' % auc1)\n",
    "print('AUC Naive Bayes: %.3f' % auc2)\n",
    "print('AUC RandomForest: %.3f' % auc3)\n",
    "print('AUC DesionTree: %.3f' % auc4)\n",
    "print('AUC KNN: %.3f' % auc5)\n",
    "print('AUC Xgboost: %.3f' % auc6)\n",
    "print('AUC SVM: %.3f' % auc7)"
   ]
  },
  {
   "cell_type": "markdown",
   "id": "3b110eb5",
   "metadata": {},
   "source": [
    "| Model | Accuracy | Recall | F1-score | AUC\n",
    "| --- | --- | --- | ---| ---|\n",
    "|Xgboost |  |  | |0.893|\n",
    "|Decision Tree |  | |  | 0.866 |\n",
    "|KNN |  | |  | 0.788 |\n",
    "|Logistic Regression |  | |  | 0.778 |\n",
    "|Naive Bayes |  | |  | 0.792 |\n",
    "|Random Forest |  | |  | 0.888 |\n",
    "|SVM | | |  | 0.888 |"
   ]
  },
  {
   "cell_type": "code",
   "execution_count": null,
   "id": "14f8742b",
   "metadata": {},
   "outputs": [],
   "source": []
  },
  {
   "cell_type": "code",
   "execution_count": null,
   "id": "8416295b",
   "metadata": {},
   "outputs": [],
   "source": []
  },
  {
   "cell_type": "code",
   "execution_count": null,
   "id": "ef610aba",
   "metadata": {},
   "outputs": [],
   "source": []
  }
 ],
 "metadata": {
  "kernelspec": {
   "display_name": "Python 3 (ipykernel)",
   "language": "python",
   "name": "python3"
  },
  "language_info": {
   "codemirror_mode": {
    "name": "ipython",
    "version": 3
   },
   "file_extension": ".py",
   "mimetype": "text/x-python",
   "name": "python",
   "nbconvert_exporter": "python",
   "pygments_lexer": "ipython3",
   "version": "3.9.12"
  }
 },
 "nbformat": 4,
 "nbformat_minor": 5
}
